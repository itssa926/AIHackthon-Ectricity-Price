{
 "cells": [
  {
   "cell_type": "code",
   "execution_count": 1,
   "metadata": {},
   "outputs": [],
   "source": [
    "import numpy as np\n",
    "import pandas as pd\n",
    "import matplotlib.pyplot as plt"
   ]
  },
  {
   "cell_type": "code",
   "execution_count": 35,
   "metadata": {
    "pycharm": {
     "name": "#%%\n"
    }
   },
   "outputs": [
    {
     "data": {
      "text/html": [
       "<div>\n",
       "<style scoped>\n",
       "    .dataframe tbody tr th:only-of-type {\n",
       "        vertical-align: middle;\n",
       "    }\n",
       "\n",
       "    .dataframe tbody tr th {\n",
       "        vertical-align: top;\n",
       "    }\n",
       "\n",
       "    .dataframe thead th {\n",
       "        text-align: right;\n",
       "    }\n",
       "</style>\n",
       "<table border=\"1\" class=\"dataframe\">\n",
       "  <thead>\n",
       "    <tr style=\"text-align: right;\">\n",
       "      <th></th>\n",
       "      <th>timestamp</th>\n",
       "      <th>apx_da_hourly</th>\n",
       "    </tr>\n",
       "  </thead>\n",
       "  <tbody>\n",
       "    <tr>\n",
       "      <th>0</th>\n",
       "      <td>2019-03-31 23:00:00+00:00</td>\n",
       "      <td>26.43</td>\n",
       "    </tr>\n",
       "    <tr>\n",
       "      <th>1</th>\n",
       "      <td>2019-03-31 23:30:00+00:00</td>\n",
       "      <td>26.43</td>\n",
       "    </tr>\n",
       "    <tr>\n",
       "      <th>2</th>\n",
       "      <td>2019-04-01 00:00:00+00:00</td>\n",
       "      <td>29.24</td>\n",
       "    </tr>\n",
       "    <tr>\n",
       "      <th>3</th>\n",
       "      <td>2019-04-01 00:30:00+00:00</td>\n",
       "      <td>29.24</td>\n",
       "    </tr>\n",
       "    <tr>\n",
       "      <th>4</th>\n",
       "      <td>2019-04-01 01:00:00+00:00</td>\n",
       "      <td>35.10</td>\n",
       "    </tr>\n",
       "  </tbody>\n",
       "</table>\n",
       "</div>"
      ],
      "text/plain": [
       "                   timestamp  apx_da_hourly\n",
       "0  2019-03-31 23:00:00+00:00          26.43\n",
       "1  2019-03-31 23:30:00+00:00          26.43\n",
       "2  2019-04-01 00:00:00+00:00          29.24\n",
       "3  2019-04-01 00:30:00+00:00          29.24\n",
       "4  2019-04-01 01:00:00+00:00          35.10"
      ]
     },
     "execution_count": 35,
     "metadata": {},
     "output_type": "execute_result"
    }
   ],
   "source": [
    "#loading dataset\n",
    "epex = pd.read_csv('epex_day_ahead_price.csv')\n",
    "sip = pd.read_csv('spot_intraday_price.csv')\n",
    "sysP = pd.read_csv('systemprice.csv')\n",
    "epex.head()"
   ]
  },
  {
   "cell_type": "code",
   "execution_count": 36,
   "metadata": {},
   "outputs": [
    {
     "data": {
      "text/plain": [
       "[<matplotlib.lines.Line2D at 0x1824841dd60>]"
      ]
     },
     "execution_count": 36,
     "metadata": {},
     "output_type": "execute_result"
    },
    {
     "data": {
      "image/png": "[encoded data removed]",
      "text/plain": [
       "<Figure size 432x288 with 1 Axes>"
      ]
     },
     "metadata": {
      "needs_background": "light"
     },
     "output_type": "display_data"
    }
   ],
   "source": [
    "plt.plot(epex.apx_da_hourly)"
   ]
  },
  {
   "cell_type": "markdown",
   "metadata": {},
   "source": [
    "# Compute Daily average price to study the distribution of dayily price"
   ]
  },
  {
   "cell_type": "code",
   "execution_count": 3,
   "metadata": {
    "pycharm": {
     "name": "#%%\n"
    }
   },
   "outputs": [
    {
     "data": {
      "text/html": [
       "<div>\n",
       "<style scoped>\n",
       "    .dataframe tbody tr th:only-of-type {\n",
       "        vertical-align: middle;\n",
       "    }\n",
       "\n",
       "    .dataframe tbody tr th {\n",
       "        vertical-align: top;\n",
       "    }\n",
       "\n",
       "    .dataframe thead th {\n",
       "        text-align: right;\n",
       "    }\n",
       "</style>\n",
       "<table border=\"1\" class=\"dataframe\">\n",
       "  <thead>\n",
       "    <tr style=\"text-align: right;\">\n",
       "      <th></th>\n",
       "      <th>timestamp</th>\n",
       "      <th>apx_da_hourly</th>\n",
       "      <th>day</th>\n",
       "      <th>month</th>\n",
       "      <th>year</th>\n",
       "      <th>year_month_day</th>\n",
       "    </tr>\n",
       "  </thead>\n",
       "  <tbody>\n",
       "    <tr>\n",
       "      <th>0</th>\n",
       "      <td>2019-03-31 23:00:00+00:00</td>\n",
       "      <td>26.43</td>\n",
       "      <td>31</td>\n",
       "      <td>3</td>\n",
       "      <td>2019</td>\n",
       "      <td>31_3_2019</td>\n",
       "    </tr>\n",
       "    <tr>\n",
       "      <th>1</th>\n",
       "      <td>2019-03-31 23:30:00+00:00</td>\n",
       "      <td>26.43</td>\n",
       "      <td>31</td>\n",
       "      <td>3</td>\n",
       "      <td>2019</td>\n",
       "      <td>31_3_2019</td>\n",
       "    </tr>\n",
       "    <tr>\n",
       "      <th>2</th>\n",
       "      <td>2019-04-01 00:00:00+00:00</td>\n",
       "      <td>29.24</td>\n",
       "      <td>1</td>\n",
       "      <td>4</td>\n",
       "      <td>2019</td>\n",
       "      <td>1_4_2019</td>\n",
       "    </tr>\n",
       "    <tr>\n",
       "      <th>3</th>\n",
       "      <td>2019-04-01 00:30:00+00:00</td>\n",
       "      <td>29.24</td>\n",
       "      <td>1</td>\n",
       "      <td>4</td>\n",
       "      <td>2019</td>\n",
       "      <td>1_4_2019</td>\n",
       "    </tr>\n",
       "    <tr>\n",
       "      <th>4</th>\n",
       "      <td>2019-04-01 01:00:00+00:00</td>\n",
       "      <td>35.10</td>\n",
       "      <td>1</td>\n",
       "      <td>4</td>\n",
       "      <td>2019</td>\n",
       "      <td>1_4_2019</td>\n",
       "    </tr>\n",
       "  </tbody>\n",
       "</table>\n",
       "</div>"
      ],
      "text/plain": [
       "                  timestamp  apx_da_hourly  day  month  year year_month_day\n",
       "0 2019-03-31 23:00:00+00:00          26.43   31      3  2019      31_3_2019\n",
       "1 2019-03-31 23:30:00+00:00          26.43   31      3  2019      31_3_2019\n",
       "2 2019-04-01 00:00:00+00:00          29.24    1      4  2019       1_4_2019\n",
       "3 2019-04-01 00:30:00+00:00          29.24    1      4  2019       1_4_2019\n",
       "4 2019-04-01 01:00:00+00:00          35.10    1      4  2019       1_4_2019"
      ]
     },
     "execution_count": 3,
     "metadata": {},
     "output_type": "execute_result"
    }
   ],
   "source": [
    "#convert string to datetime, and create a column representing a particular day\n",
    "\n",
    "epex['timestamp'] = pd.to_datetime(epex['timestamp'])\n",
    "epex['day'] = epex['timestamp'].dt.day\n",
    "epex['month'] = epex['timestamp'].dt.month\n",
    "epex['year'] = epex['timestamp'].dt.year\n",
    "\n",
    "\n",
    "cols = ['day', 'month', 'year']\n",
    "epex['year_month_day'] = epex[cols].apply(lambda row: '_'.join(row.values.astype(str)), axis=1) # combine \"day\",\"month\",\"year\" cloumns into one \n",
    "\n",
    "day_price = [] #average daily price will be appended\n",
    "day = [] #contain days\n",
    "dmy_index = epex['year_month_day'].unique() #find the days\n",
    "for i, item in enumerate(dmy_index):\n",
    "    day_price.append(\n",
    "        sum(epex[epex['year_month_day'] == item].iloc[:, 1])/len(epex[epex['year_month_day'] == item].iloc[:, 1])\n",
    "    ) #compute the average\n",
    "    day.append(item)\n",
    "epex.head()"
   ]
  },
  {
   "cell_type": "code",
   "execution_count": 37,
   "metadata": {
    "pycharm": {
     "name": "#%%\n"
    }
   },
   "outputs": [
    {
     "name": "stdout",
     "output_type": "stream",
     "text": [
      "31_3_2019\n",
      "998\n"
     ]
    },
    {
     "data": {
      "image/png": "[encoded data removed]",
      "text/plain": [
       "<Figure size 432x288 with 1 Axes>"
      ]
     },
     "metadata": {
      "needs_background": "light"
     },
     "output_type": "display_data"
    }
   ],
   "source": [
    "#get the averge spread \n",
    "plt.plot(day_price)\n",
    "plt.xlabel('number of days')\n",
    "plt.ylabel('price/pounds')\n",
    "print(day[0])\n",
    "print(len(day))"
   ]
  },
  {
   "cell_type": "markdown",
   "metadata": {},
   "source": [
    "From March 31th of 2019, price is kept around 50 pounds after approximately 450 days, the price gradually growed in the following 550 days, except peaks at around day 625, day 900, and day 990."
   ]
  },
  {
   "cell_type": "code",
   "execution_count": 5,
   "metadata": {},
   "outputs": [],
   "source": [
    "# define a function computing daily average so that we could apply to other dataset\n",
    "def calculate_day_average(data, date_index_name, price_name):\n",
    "    #produce a column representing specific day for each row\n",
    "    data[date_index_name] = pd.to_datetime(data[date_index_name])\n",
    "    data['day'] = data[date_index_name].dt.day\n",
    "    data['month'] = data[date_index_name].dt.month\n",
    "    data['year'] = data[date_index_name].dt.year\n",
    "\n",
    "    cols = ['day', 'month', 'year']\n",
    "    data['year_month_day'] = data[cols].apply(lambda row: '_'.join(row.values.astype(str)), axis=1)\n",
    "\n",
    "    daily_price = []\n",
    "    day = []\n",
    "    dmy_index = data['year_month_day'].unique()\n",
    "    for item in dmy_index:\n",
    "        daily_price.append(\n",
    "            sum(data[data['year_month_day']==item].loc[:, price_name])/len(data[data['year_month_day']==item].loc[:, price_name]) #compute average of one day\n",
    "        ) #compute the average price of a day\n",
    "\n",
    "        day.append(item)\n",
    "    return daily_price, day"
   ]
  },
  {
   "cell_type": "markdown",
   "metadata": {},
   "source": [
    "# Detecting outliers using Interquatile Range (IQR)\n",
    "- This is the easiest thing to do, giving us a glimsp of the result."
   ]
  },
  {
   "cell_type": "code",
   "execution_count": 6,
   "metadata": {
    "pycharm": {
     "name": "#%%\n"
    }
   },
   "outputs": [],
   "source": [
    "def extreme(data, years, date_name):\n",
    "    data[date_name] = pd.to_datetime(data[date_name])\n",
    "    data[\"year\"] = data[date_name].dt.year\n",
    "    data_new = data[data[\"year\"].isin([years])]\n",
    "    data_new[date_name] = data_new[date_name].dt.strftime('%Y-%m-%d')\n",
    "    \n",
    "    # IQR\n",
    "    Q1 = np.percentile(data_new['apx_da_hourly'], 25,\n",
    "                   interpolation = 'midpoint')\n",
    " \n",
    "    Q3 = np.percentile(data_new['apx_da_hourly'], 75,\n",
    "                   interpolation = 'midpoint')\n",
    "    IQR = Q3 - Q1\n",
    "    upper = Q3+1.5*IQR\n",
    "    lower = Q1-1.5*IQR\n",
    "    indexU = np.where(data_new['apx_da_hourly']>upper) # index for upper values\n",
    "    indexL = np.where(data_new['apx_da_hourly']<lower) #index for lower\n",
    "    dayval = []\n",
    "    \n",
    "    # append the outlier values\n",
    "    for item in indexU[0]:\n",
    "        dayval.append(\n",
    "            [data_new.iloc[item, 0],data_new.iloc[item, 1]]\n",
    "        )\n",
    "    for item in indexL[0]:\n",
    "        dayval.append(\n",
    "            [data_new.iloc[item, 0],data_new.iloc[item, 1]]\n",
    "        )\n",
    "    return dayval"
   ]
  },
  {
   "cell_type": "code",
   "execution_count": 7,
   "metadata": {
    "pycharm": {
     "name": "#%%\n"
    }
   },
   "outputs": [
    {
     "name": "stderr",
     "output_type": "stream",
     "text": [
      "<ipython-input-6-d01d9fad601f>:5: SettingWithCopyWarning: \n",
      "A value is trying to be set on a copy of a slice from a DataFrame.\n",
      "Try using .loc[row_indexer,col_indexer] = value instead\n",
      "\n",
      "See the caveats in the documentation: https://pandas.pydata.org/pandas-docs/stable/user_guide/indexing.html#returning-a-view-versus-a-copy\n",
      "  data_new[date_name] = data_new[date_name].dt.strftime('%Y-%m-%d')\n"
     ]
    },
    {
     "data": {
      "text/plain": [
       "[['2020-03-04', 67.48],\n",
       " ['2020-03-04', 67.48],\n",
       " ['2020-03-04', 93.0],\n",
       " ['2020-03-04', 93.0],\n",
       " ['2020-03-04', 70.0],\n",
       " ['2020-03-04', 70.0],\n",
       " ['2020-03-05', 99.9],\n",
       " ['2020-03-05', 99.9],\n",
       " ['2020-03-05', 71.97],\n",
       " ['2020-03-05', 71.97],\n",
       " ['2020-03-06', 92.0],\n",
       " ['2020-03-06', 92.0],\n",
       " ['2020-03-08', 66.72],\n",
       " ['2020-03-08', 66.72],\n",
       " ['2020-03-13', 75.0],\n",
       " ['2020-03-13', 75.0],\n",
       " ['2020-03-19', 86.6],\n",
       " ['2020-03-19', 86.6],\n",
       " ['2020-08-24', 81.93],\n",
       " ['2020-08-24', 81.93],\n",
       " ['2020-08-24', 87.01],\n",
       " ['2020-08-24', 87.01],\n",
       " ['2020-08-24', 68.5],\n",
       " ['2020-08-24', 68.5],\n",
       " ['2020-08-26', 74.99],\n",
       " ['2020-08-26', 74.99],\n",
       " ['2020-08-26', 68.6],\n",
       " ['2020-08-26', 68.6],\n",
       " ['2020-08-26', 74.3],\n",
       " ['2020-08-26', 74.3],\n",
       " ['2020-08-27', 69.5],\n",
       " ['2020-08-27', 69.5],\n",
       " ['2020-08-27', 69.3],\n",
       " ['2020-08-27', 69.3],\n",
       " ['2020-08-27', 99.4],\n",
       " ['2020-08-27', 99.4],\n",
       " ['2020-08-27', 89.94],\n",
       " ['2020-08-27', 89.94],\n",
       " ['2020-08-27', 83.36],\n",
       " ['2020-08-27', 83.36],\n",
       " ['2020-08-31', 66.05],\n",
       " ['2020-08-31', 66.05],\n",
       " ['2020-08-31', 72.64],\n",
       " ['2020-08-31', 72.64],\n",
       " ['2020-08-31', 66.75],\n",
       " ['2020-08-31', 66.75],\n",
       " ['2020-09-10', 69.27],\n",
       " ['2020-09-10', 69.27],\n",
       " ['2020-09-10', 66.81],\n",
       " ['2020-09-10', 66.81],\n",
       " ['2020-09-14', 73.22],\n",
       " ['2020-09-14', 73.22],\n",
       " ['2020-09-14', 109.03],\n",
       " ['2020-09-14', 109.03],\n",
       " ['2020-09-14', 87.2],\n",
       " ['2020-09-14', 87.2],\n",
       " ['2020-09-15', 76.02],\n",
       " ['2020-09-15', 76.02],\n",
       " ['2020-09-15', 70.0],\n",
       " ['2020-09-15', 70.0],\n",
       " ['2020-09-15', 78.14],\n",
       " ['2020-09-15', 78.14],\n",
       " ['2020-09-15', 123.38],\n",
       " ['2020-09-15', 123.38],\n",
       " ['2020-09-15', 170.62],\n",
       " ['2020-09-15', 170.62],\n",
       " ['2020-09-15', 140.0],\n",
       " ['2020-09-15', 140.0],\n",
       " ['2020-09-15', 73.39],\n",
       " ['2020-09-15', 73.39],\n",
       " ['2020-09-16', 77.94],\n",
       " ['2020-09-16', 77.94],\n",
       " ['2020-09-16', 67.58],\n",
       " ['2020-09-16', 67.58],\n",
       " ['2020-09-16', 65.97],\n",
       " ['2020-09-16', 65.97],\n",
       " ['2020-09-17', 75.64],\n",
       " ['2020-09-17', 75.64],\n",
       " ['2020-09-21', 75.86],\n",
       " ['2020-09-21', 75.86],\n",
       " ['2020-09-21', 67.43],\n",
       " ['2020-09-21', 67.43],\n",
       " ['2020-09-21', 84.93],\n",
       " ['2020-09-21', 84.93],\n",
       " ['2020-09-21', 187.1],\n",
       " ['2020-09-21', 187.1],\n",
       " ['2020-09-21', 124.0],\n",
       " ['2020-09-21', 124.0],\n",
       " ['2020-09-21', 66.0],\n",
       " ['2020-09-21', 66.0],\n",
       " ['2020-09-22', 65.6],\n",
       " ['2020-09-22', 65.6],\n",
       " ['2020-09-23', 70.6],\n",
       " ['2020-09-23', 70.6],\n",
       " ['2020-09-23', 75.32],\n",
       " ['2020-09-23', 75.32],\n",
       " ['2020-09-23', 74.96],\n",
       " ['2020-09-23', 74.96],\n",
       " ['2020-09-24', 69.15],\n",
       " ['2020-09-24', 69.15],\n",
       " ['2020-09-28', 75.42],\n",
       " ['2020-09-28', 75.42],\n",
       " ['2020-09-28', 67.5],\n",
       " ['2020-09-28', 67.5],\n",
       " ['2020-09-29', 78.63],\n",
       " ['2020-09-29', 78.63],\n",
       " ['2020-09-29', 70.6],\n",
       " ['2020-09-29', 70.6],\n",
       " ['2020-09-29', 68.92],\n",
       " ['2020-09-29', 68.92],\n",
       " ['2020-09-29', 120.0],\n",
       " ['2020-09-29', 120.0],\n",
       " ['2020-09-29', 71.55],\n",
       " ['2020-09-29', 71.55],\n",
       " ['2020-09-30', 67.72],\n",
       " ['2020-09-30', 67.72],\n",
       " ['2020-10-01', 99.98],\n",
       " ['2020-10-01', 99.98],\n",
       " ['2020-10-01', 140.0],\n",
       " ['2020-10-01', 140.0],\n",
       " ['2020-10-01', 149.96],\n",
       " ['2020-10-01', 149.96],\n",
       " ['2020-10-05', 79.97],\n",
       " ['2020-10-05', 79.97],\n",
       " ['2020-10-05', 72.72],\n",
       " ['2020-10-05', 72.72],\n",
       " ['2020-10-07', 71.2],\n",
       " ['2020-10-07', 71.2],\n",
       " ['2020-10-08', 68.0],\n",
       " ['2020-10-08', 68.0],\n",
       " ['2020-10-10', 69.4],\n",
       " ['2020-10-10', 69.4],\n",
       " ['2020-10-10', 67.11],\n",
       " ['2020-10-10', 67.11],\n",
       " ['2020-10-11', 71.94],\n",
       " ['2020-10-11', 71.94],\n",
       " ['2020-10-11', 70.02],\n",
       " ['2020-10-11', 70.02],\n",
       " ['2020-10-12', 73.21],\n",
       " ['2020-10-12', 73.21],\n",
       " ['2020-10-12', 67.0],\n",
       " ['2020-10-12', 67.0],\n",
       " ['2020-10-13', 67.14],\n",
       " ['2020-10-13', 67.14],\n",
       " ['2020-10-14', 74.59],\n",
       " ['2020-10-14', 74.59],\n",
       " ['2020-10-15', 98.28],\n",
       " ['2020-10-15', 98.28],\n",
       " ['2020-10-15', 73.26],\n",
       " ['2020-10-15', 73.26],\n",
       " ['2020-10-16', 90.53],\n",
       " ['2020-10-16', 90.53],\n",
       " ['2020-10-16', 183.2],\n",
       " ['2020-10-16', 183.2],\n",
       " ['2020-10-16', 91.1],\n",
       " ['2020-10-16', 91.1],\n",
       " ['2020-10-17', 82.03],\n",
       " ['2020-10-17', 82.03],\n",
       " ['2020-10-18', 79.93],\n",
       " ['2020-10-18', 79.93],\n",
       " ['2020-10-18', 66.8],\n",
       " ['2020-10-18', 66.8],\n",
       " ['2020-10-20', 70.0],\n",
       " ['2020-10-20', 70.0],\n",
       " ['2020-10-22', 78.36],\n",
       " ['2020-10-22', 78.36],\n",
       " ['2020-10-22', 67.51],\n",
       " ['2020-10-22', 67.51],\n",
       " ['2020-10-24', 75.0],\n",
       " ['2020-10-24', 75.0],\n",
       " ['2020-10-25', 74.0],\n",
       " ['2020-10-25', 74.0],\n",
       " ['2020-10-25', 75.0],\n",
       " ['2020-10-25', 75.0],\n",
       " ['2020-10-25', 65.8],\n",
       " ['2020-10-25', 65.8],\n",
       " ['2020-10-26', 79.91],\n",
       " ['2020-10-26', 79.91],\n",
       " ['2020-10-26', 72.0],\n",
       " ['2020-10-26', 72.0],\n",
       " ['2020-10-27', 73.29],\n",
       " ['2020-10-27', 73.29],\n",
       " ['2020-10-28', 69.1],\n",
       " ['2020-10-28', 69.1],\n",
       " ['2020-10-28', 67.21],\n",
       " ['2020-10-28', 67.21],\n",
       " ['2020-10-30', 87.0],\n",
       " ['2020-10-30', 87.0],\n",
       " ['2020-10-30', 76.39],\n",
       " ['2020-10-30', 76.39],\n",
       " ['2020-10-31', 73.79],\n",
       " ['2020-10-31', 73.79],\n",
       " ['2020-10-31', 70.0],\n",
       " ['2020-10-31', 70.0],\n",
       " ['2020-11-01', 75.35],\n",
       " ['2020-11-01', 75.35],\n",
       " ['2020-11-02', 70.0],\n",
       " ['2020-11-02', 70.0],\n",
       " ['2020-11-03', 69.0],\n",
       " ['2020-11-03', 69.0],\n",
       " ['2020-11-04', 132.0],\n",
       " ['2020-11-04', 132.0],\n",
       " ['2020-11-04', 99.91],\n",
       " ['2020-11-04', 99.91],\n",
       " ['2020-11-05', 192.25],\n",
       " ['2020-11-05', 192.25],\n",
       " ['2020-11-05', 150.0],\n",
       " ['2020-11-05', 150.0],\n",
       " ['2020-11-05', 66.2],\n",
       " ['2020-11-05', 66.2],\n",
       " ['2020-11-06', 80.0],\n",
       " ['2020-11-06', 80.0],\n",
       " ['2020-11-07', 76.4],\n",
       " ['2020-11-07', 76.4],\n",
       " ['2020-11-08', 73.77],\n",
       " ['2020-11-08', 73.77],\n",
       " ['2020-11-09', 66.99],\n",
       " ['2020-11-09', 66.99],\n",
       " ['2020-11-09', 82.82],\n",
       " ['2020-11-09', 82.82],\n",
       " ['2020-11-09', 66.01],\n",
       " ['2020-11-09', 66.01],\n",
       " ['2020-11-10', 69.95],\n",
       " ['2020-11-10', 69.95],\n",
       " ['2020-11-10', 84.72],\n",
       " ['2020-11-10', 84.72],\n",
       " ['2020-11-11', 68.0],\n",
       " ['2020-11-11', 68.0],\n",
       " ['2020-11-12', 71.01],\n",
       " ['2020-11-12', 71.01],\n",
       " ['2020-11-13', 76.26],\n",
       " ['2020-11-13', 76.26],\n",
       " ['2020-11-14', 76.73],\n",
       " ['2020-11-14', 76.73],\n",
       " ['2020-11-15', 78.99],\n",
       " ['2020-11-15', 78.99],\n",
       " ['2020-11-16', 72.7],\n",
       " ['2020-11-16', 72.7],\n",
       " ['2020-11-17', 73.83],\n",
       " ['2020-11-17', 73.83],\n",
       " ['2020-11-18', 70.3],\n",
       " ['2020-11-18', 70.3],\n",
       " ['2020-11-19', 94.98],\n",
       " ['2020-11-19', 94.98],\n",
       " ['2020-11-19', 69.9],\n",
       " ['2020-11-19', 69.9],\n",
       " ['2020-11-21', 72.1],\n",
       " ['2020-11-21', 72.1],\n",
       " ['2020-11-22', 79.41],\n",
       " ['2020-11-22', 79.41],\n",
       " ['2020-11-25', 96.92],\n",
       " ['2020-11-25', 96.92],\n",
       " ['2020-11-25', 70.0],\n",
       " ['2020-11-25', 70.0],\n",
       " ['2020-11-26', 66.1],\n",
       " ['2020-11-26', 66.1],\n",
       " ['2020-11-26', 139.0],\n",
       " ['2020-11-26', 139.0],\n",
       " ['2020-11-26', 313.45],\n",
       " ['2020-11-26', 313.45],\n",
       " ['2020-11-26', 173.45],\n",
       " ['2020-11-26', 173.45],\n",
       " ['2020-11-26', 75.3],\n",
       " ['2020-11-26', 75.3],\n",
       " ['2020-11-27', 69.3],\n",
       " ['2020-11-27', 69.3],\n",
       " ['2020-11-27', 69.43],\n",
       " ['2020-11-27', 69.43],\n",
       " ['2020-11-27', 67.34],\n",
       " ['2020-11-27', 67.34],\n",
       " ['2020-11-27', 68.33],\n",
       " ['2020-11-27', 68.33],\n",
       " ['2020-11-27', 109.51],\n",
       " ['2020-11-27', 109.51],\n",
       " ['2020-11-27', 142.78],\n",
       " ['2020-11-27', 142.78],\n",
       " ['2020-11-27', 69.0],\n",
       " ['2020-11-27', 69.0],\n",
       " ['2020-11-28', 79.0],\n",
       " ['2020-11-28', 79.0],\n",
       " ['2020-11-28', 65.87],\n",
       " ['2020-11-28', 65.87],\n",
       " ['2020-11-29', 78.99],\n",
       " ['2020-11-29', 78.99],\n",
       " ['2020-11-29', 100.0],\n",
       " ['2020-11-29', 100.0],\n",
       " ['2020-11-29', 69.99],\n",
       " ['2020-11-29', 69.99],\n",
       " ['2020-12-01', 72.1],\n",
       " ['2020-12-01', 72.1],\n",
       " ['2020-12-01', 84.97],\n",
       " ['2020-12-01', 84.97],\n",
       " ['2020-12-02', 89.96],\n",
       " ['2020-12-02', 89.96],\n",
       " ['2020-12-02', 86.75],\n",
       " ['2020-12-02', 86.75],\n",
       " ['2020-12-02', 68.13],\n",
       " ['2020-12-02', 68.13],\n",
       " ['2020-12-03', 108.8],\n",
       " ['2020-12-03', 108.8],\n",
       " ['2020-12-03', 150.83],\n",
       " ['2020-12-03', 150.83],\n",
       " ['2020-12-03', 80.0],\n",
       " ['2020-12-03', 80.0],\n",
       " ['2020-12-03', 70.03],\n",
       " ['2020-12-03', 70.03],\n",
       " ['2020-12-05', 88.39],\n",
       " ['2020-12-05', 88.39],\n",
       " ['2020-12-05', 199.96],\n",
       " ['2020-12-05', 199.96],\n",
       " ['2020-12-05', 124.7],\n",
       " ['2020-12-05', 124.7],\n",
       " ['2020-12-05', 79.91],\n",
       " ['2020-12-05', 79.91],\n",
       " ['2020-12-06', 189.96],\n",
       " ['2020-12-06', 189.96],\n",
       " ['2020-12-06', 350.0],\n",
       " ['2020-12-06', 350.0],\n",
       " ['2020-12-06', 150.49],\n",
       " ['2020-12-06', 150.49],\n",
       " ['2020-12-06', 77.8],\n",
       " ['2020-12-06', 77.8],\n",
       " ['2020-12-07', 84.03],\n",
       " ['2020-12-07', 84.03],\n",
       " ['2020-12-07', 92.26],\n",
       " ['2020-12-07', 92.26],\n",
       " ['2020-12-07', 89.57],\n",
       " ['2020-12-07', 89.57],\n",
       " ['2020-12-07', 93.53],\n",
       " ['2020-12-07', 93.53],\n",
       " ['2020-12-07', 85.08],\n",
       " ['2020-12-07', 85.08],\n",
       " ['2020-12-07', 75.4],\n",
       " ['2020-12-07', 75.4],\n",
       " ['2020-12-07', 68.93],\n",
       " ['2020-12-07', 68.93],\n",
       " ['2020-12-07', 69.97],\n",
       " ['2020-12-07', 69.97],\n",
       " ['2020-12-07', 113.6],\n",
       " ['2020-12-07', 113.6],\n",
       " ['2020-12-07', 150.0],\n",
       " ['2020-12-07', 150.0],\n",
       " ['2020-12-07', 80.33],\n",
       " ['2020-12-07', 80.33],\n",
       " ['2020-12-08', 66.65],\n",
       " ['2020-12-08', 66.65],\n",
       " ['2020-12-08', 78.28],\n",
       " ['2020-12-08', 78.28],\n",
       " ['2020-12-08', 78.28],\n",
       " ['2020-12-08', 78.28],\n",
       " ['2020-12-08', 74.93],\n",
       " ['2020-12-08', 74.93],\n",
       " ['2020-12-08', 72.38],\n",
       " ['2020-12-08', 72.38],\n",
       " ['2020-12-08', 71.93],\n",
       " ['2020-12-08', 71.93],\n",
       " ['2020-12-08', 71.49],\n",
       " ['2020-12-08', 71.49],\n",
       " ['2020-12-08', 72.42],\n",
       " ['2020-12-08', 72.42],\n",
       " ['2020-12-08', 75.78],\n",
       " ['2020-12-08', 75.78],\n",
       " ['2020-12-08', 119.91],\n",
       " ['2020-12-08', 119.91],\n",
       " ['2020-12-08', 143.07],\n",
       " ['2020-12-08', 143.07],\n",
       " ['2020-12-08', 89.92],\n",
       " ['2020-12-08', 89.92],\n",
       " ['2020-12-08', 67.25],\n",
       " ['2020-12-08', 67.25],\n",
       " ['2020-12-09', 85.0],\n",
       " ['2020-12-09', 85.0],\n",
       " ['2020-12-09', 93.53],\n",
       " ['2020-12-09', 93.53],\n",
       " ['2020-12-09', 98.02],\n",
       " ['2020-12-09', 98.02],\n",
       " ['2020-12-09', 98.02],\n",
       " ['2020-12-09', 98.02],\n",
       " ['2020-12-09', 98.0],\n",
       " ['2020-12-09', 98.0],\n",
       " ['2020-12-09', 98.02],\n",
       " ['2020-12-09', 98.02],\n",
       " ['2020-12-09', 98.02],\n",
       " ['2020-12-09', 98.02],\n",
       " ['2020-12-09', 96.0],\n",
       " ['2020-12-09', 96.0],\n",
       " ['2020-12-09', 98.02],\n",
       " ['2020-12-09', 98.02],\n",
       " ['2020-12-09', 150.0],\n",
       " ['2020-12-09', 150.0],\n",
       " ['2020-12-09', 224.9],\n",
       " ['2020-12-09', 224.9],\n",
       " ['2020-12-09', 99.19],\n",
       " ['2020-12-09', 99.19],\n",
       " ['2020-12-10', 74.97],\n",
       " ['2020-12-10', 74.97],\n",
       " ['2020-12-10', 81.55],\n",
       " ['2020-12-10', 81.55],\n",
       " ['2020-12-10', 82.0],\n",
       " ['2020-12-10', 82.0],\n",
       " ['2020-12-10', 76.55],\n",
       " ['2020-12-10', 76.55],\n",
       " ['2020-12-10', 81.9],\n",
       " ['2020-12-10', 81.9],\n",
       " ['2020-12-10', 71.21],\n",
       " ['2020-12-10', 71.21],\n",
       " ['2020-12-10', 67.11],\n",
       " ['2020-12-10', 67.11],\n",
       " ['2020-12-10', 82.46],\n",
       " ['2020-12-10', 82.46],\n",
       " ['2020-12-10', 82.5],\n",
       " ['2020-12-10', 82.5],\n",
       " ['2020-12-11', 96.27],\n",
       " ['2020-12-11', 96.27],\n",
       " ['2020-12-11', 144.5],\n",
       " ['2020-12-11', 144.5],\n",
       " ['2020-12-11', 84.94],\n",
       " ['2020-12-11', 84.94],\n",
       " ['2020-12-12', 89.97],\n",
       " ['2020-12-12', 89.97],\n",
       " ['2020-12-12', 69.0],\n",
       " ['2020-12-12', 69.0],\n",
       " ['2020-12-13', 77.19],\n",
       " ['2020-12-13', 77.19],\n",
       " ['2020-12-14', 66.14],\n",
       " ['2020-12-14', 66.14],\n",
       " ['2020-12-14', 87.2],\n",
       " ['2020-12-14', 87.2],\n",
       " ['2020-12-15', 65.92],\n",
       " ['2020-12-15', 65.92],\n",
       " ['2020-12-15', 76.61],\n",
       " ['2020-12-15', 76.61],\n",
       " ['2020-12-16', 66.5],\n",
       " ['2020-12-16', 66.5],\n",
       " ['2020-12-16', 77.95],\n",
       " ['2020-12-16', 77.95],\n",
       " ['2020-12-17', 66.39],\n",
       " ['2020-12-17', 66.39],\n",
       " ['2020-12-17', 72.8],\n",
       " ['2020-12-17', 72.8],\n",
       " ['2020-12-18', 66.39],\n",
       " ['2020-12-18', 66.39],\n",
       " ['2020-12-18', 75.24],\n",
       " ['2020-12-18', 75.24],\n",
       " ['2020-12-19', 72.4],\n",
       " ['2020-12-19', 72.4],\n",
       " ['2020-12-20', 77.0],\n",
       " ['2020-12-20', 77.0],\n",
       " ['2020-12-21', 70.8],\n",
       " ['2020-12-21', 70.8],\n",
       " ['2020-12-21', 76.0],\n",
       " ['2020-12-21', 76.0],\n",
       " ['2020-12-21', 68.0],\n",
       " ['2020-12-21', 68.0],\n",
       " ['2020-12-22', 100.01],\n",
       " ['2020-12-22', 100.01],\n",
       " ['2020-12-22', 197.49],\n",
       " ['2020-12-22', 197.49],\n",
       " ['2020-12-22', 107.0],\n",
       " ['2020-12-22', 107.0],\n",
       " ['2020-12-22', 81.1],\n",
       " ['2020-12-22', 81.1],\n",
       " ['2020-12-22', 67.43],\n",
       " ['2020-12-22', 67.43],\n",
       " ['2020-12-23', 67.1],\n",
       " ['2020-12-23', 67.1],\n",
       " ['2020-12-23', 67.2],\n",
       " ['2020-12-23', 67.2],\n",
       " ['2020-12-24', 80.0],\n",
       " ['2020-12-24', 80.0],\n",
       " ['2020-12-24', 70.0],\n",
       " ['2020-12-24', 70.0],\n",
       " ['2020-12-25', 68.85],\n",
       " ['2020-12-25', 68.85],\n",
       " ['2020-12-25', 70.0],\n",
       " ['2020-12-25', 70.0],\n",
       " ['2020-12-26', 70.0],\n",
       " ['2020-12-26', 70.0],\n",
       " ['2020-12-27', 72.4],\n",
       " ['2020-12-27', 72.4],\n",
       " ['2020-12-27', 86.8],\n",
       " ['2020-12-27', 86.8],\n",
       " ['2020-12-27', 75.86],\n",
       " ['2020-12-27', 75.86],\n",
       " ['2020-12-27', 70.0],\n",
       " ['2020-12-27', 70.0],\n",
       " ['2020-12-28', 67.95],\n",
       " ['2020-12-28', 67.95],\n",
       " ['2020-12-28', 74.98],\n",
       " ['2020-12-28', 74.98],\n",
       " ['2020-12-28', 99.93],\n",
       " ['2020-12-28', 99.93],\n",
       " ['2020-12-28', 72.7],\n",
       " ['2020-12-28', 72.7],\n",
       " ['2020-12-28', 72.01],\n",
       " ['2020-12-28', 72.01],\n",
       " ['2020-12-29', 66.0],\n",
       " ['2020-12-29', 66.0],\n",
       " ['2020-12-29', 79.0],\n",
       " ['2020-12-29', 79.0],\n",
       " ['2020-12-29', 94.39],\n",
       " ['2020-12-29', 94.39],\n",
       " ['2020-12-29', 73.99],\n",
       " ['2020-12-29', 73.99],\n",
       " ['2020-12-30', 68.5],\n",
       " ['2020-12-30', 68.5],\n",
       " ['2020-12-30', 72.0],\n",
       " ['2020-12-30', 72.0],\n",
       " ['2020-12-30', 92.91],\n",
       " ['2020-12-30', 92.91],\n",
       " ['2020-12-30', 159.91],\n",
       " ['2020-12-30', 159.91],\n",
       " ['2020-12-30', 100.0],\n",
       " ['2020-12-30', 100.0],\n",
       " ['2020-12-30', 71.5],\n",
       " ['2020-12-30', 71.5],\n",
       " ['2020-12-31', 65.6],\n",
       " ['2020-12-31', 65.6],\n",
       " ['2020-12-31', 76.0],\n",
       " ['2020-12-31', 76.0],\n",
       " ['2020-12-31', 106.5],\n",
       " ['2020-12-31', 106.5],\n",
       " ['2020-12-31', 71.3],\n",
       " ['2020-12-31', 71.3],\n",
       " ['2020-12-31', 67.5],\n",
       " ['2020-12-31', 67.5],\n",
       " ['2020-02-01', 0.28],\n",
       " ['2020-02-01', 0.28],\n",
       " ['2020-02-01', 2.0],\n",
       " ['2020-02-01', 2.0],\n",
       " ['2020-02-10', 2.29],\n",
       " ['2020-02-10', 2.29],\n",
       " ['2020-02-10', 2.14],\n",
       " ['2020-02-10', 2.14],\n",
       " ['2020-02-16', -0.18],\n",
       " ['2020-02-16', -0.18],\n",
       " ['2020-02-16', -4.33],\n",
       " ['2020-02-16', -4.33],\n",
       " ['2020-02-16', -4.21],\n",
       " ['2020-02-16', -4.21],\n",
       " ['2020-02-16', -1.11],\n",
       " ['2020-02-16', -1.11],\n",
       " ['2020-03-12', 2.65],\n",
       " ['2020-03-12', 2.65],\n",
       " ['2020-03-29', 3.06],\n",
       " ['2020-03-29', 3.06],\n",
       " ['2020-03-29', 1.43],\n",
       " ['2020-03-29', 1.43],\n",
       " ['2020-03-29', 2.38],\n",
       " ['2020-03-29', 2.38],\n",
       " ['2020-04-05', 1.93],\n",
       " ['2020-04-05', 1.93],\n",
       " ['2020-04-05', 0.02],\n",
       " ['2020-04-05', 0.02],\n",
       " ['2020-04-05', -0.02],\n",
       " ['2020-04-05', -0.02],\n",
       " ['2020-04-05', -9.28],\n",
       " ['2020-04-05', -9.28],\n",
       " ['2020-04-05', -19.0],\n",
       " ['2020-04-05', -19.0],\n",
       " ['2020-04-05', -4.35],\n",
       " ['2020-04-05', -4.35],\n",
       " ['2020-04-06', 3.13],\n",
       " ['2020-04-06', 3.13],\n",
       " ['2020-04-12', 0.06],\n",
       " ['2020-04-12', 0.06],\n",
       " ['2020-04-13', 1.46],\n",
       " ['2020-04-13', 1.46],\n",
       " ['2020-04-13', 0.65],\n",
       " ['2020-04-13', 0.65],\n",
       " ['2020-04-13', 0.02],\n",
       " ['2020-04-13', 0.02],\n",
       " ['2020-04-13', -0.08],\n",
       " ['2020-04-13', -0.08],\n",
       " ['2020-04-13', -2.0],\n",
       " ['2020-04-13', -2.0],\n",
       " ['2020-04-13', -4.29],\n",
       " ['2020-04-13', -4.29],\n",
       " ['2020-04-13', -5.3],\n",
       " ['2020-04-13', -5.3],\n",
       " ['2020-04-13', -3.29],\n",
       " ['2020-04-13', -3.29],\n",
       " ['2020-04-13', 1.99],\n",
       " ['2020-04-13', 1.99],\n",
       " ['2020-04-20', 0.59],\n",
       " ['2020-04-20', 0.59],\n",
       " ['2020-04-20', 0.03],\n",
       " ['2020-04-20', 0.03],\n",
       " ['2020-04-20', 1.99],\n",
       " ['2020-04-20', 1.99],\n",
       " ['2020-04-20', -5.04],\n",
       " ['2020-04-20', -5.04],\n",
       " ['2020-04-20', -10.99],\n",
       " ['2020-04-20', -10.99],\n",
       " ['2020-04-20', -10.03],\n",
       " ['2020-04-20', -10.03],\n",
       " ['2020-04-21', 0.04],\n",
       " ['2020-04-21', 0.04],\n",
       " ['2020-04-21', 0.0],\n",
       " ['2020-04-21', 0.0],\n",
       " ['2020-04-21', 0.01],\n",
       " ['2020-04-21', 0.01],\n",
       " ['2020-04-21', -0.83],\n",
       " ['2020-04-21', -0.83],\n",
       " ['2020-04-21', -3.4],\n",
       " ['2020-04-21', -3.4],\n",
       " ['2020-04-21', -7.2],\n",
       " ['2020-04-21', -7.2],\n",
       " ['2020-04-21', -0.08],\n",
       " ['2020-04-21', -0.08],\n",
       " ['2020-04-21', 1.99],\n",
       " ['2020-04-21', 1.99],\n",
       " ['2020-04-22', 1.64],\n",
       " ['2020-04-22', 1.64],\n",
       " ['2020-05-10', 2.01],\n",
       " ['2020-05-10', 2.01],\n",
       " ['2020-05-10', 0.8],\n",
       " ['2020-05-10', 0.8],\n",
       " ['2020-05-10', 2.53],\n",
       " ['2020-05-10', 2.53],\n",
       " ['2020-05-10', 1.72],\n",
       " ['2020-05-10', 1.72],\n",
       " ['2020-05-11', 0.11],\n",
       " ['2020-05-11', 0.11],\n",
       " ['2020-05-11', -0.01],\n",
       " ['2020-05-11', -0.01],\n",
       " ['2020-05-11', -2.0],\n",
       " ['2020-05-11', -2.0],\n",
       " ['2020-05-11', -0.02],\n",
       " ['2020-05-11', -0.02],\n",
       " ['2020-05-11', 0.04],\n",
       " ['2020-05-11', 0.04],\n",
       " ['2020-05-22', 0.0],\n",
       " ['2020-05-22', 0.0],\n",
       " ['2020-05-22', 2.0],\n",
       " ['2020-05-22', 2.0],\n",
       " ['2020-05-22', -0.04],\n",
       " ['2020-05-22', -0.04],\n",
       " ['2020-05-22', -4.55],\n",
       " ['2020-05-22', -4.55],\n",
       " ['2020-05-22', -0.01],\n",
       " ['2020-05-22', -0.01],\n",
       " ['2020-05-23', -9.19],\n",
       " ['2020-05-23', -9.19],\n",
       " ['2020-05-23', -20.0],\n",
       " ['2020-05-23', -20.0],\n",
       " ['2020-05-23', -26.05],\n",
       " ['2020-05-23', -26.05],\n",
       " ['2020-05-23', -34.93],\n",
       " ['2020-05-23', -34.93],\n",
       " ['2020-05-23', -36.6],\n",
       " ['2020-05-23', -36.6],\n",
       " ['2020-05-23', -28.6],\n",
       " ['2020-05-23', -28.6],\n",
       " ['2020-05-23', -17.37],\n",
       " ['2020-05-23', -17.37],\n",
       " ['2020-05-23', -4.37],\n",
       " ['2020-05-23', -4.37],\n",
       " ['2020-05-23', -0.01],\n",
       " ['2020-05-23', -0.01],\n",
       " ['2020-05-23', -2.1],\n",
       " ['2020-05-23', -2.1],\n",
       " ['2020-05-23', -17.15],\n",
       " ['2020-05-23', -17.15],\n",
       " ['2020-05-23', -10.9],\n",
       " ['2020-05-23', -10.9],\n",
       " ['2020-05-23', -28.8],\n",
       " ['2020-05-23', -28.8],\n",
       " ['2020-05-23', -34.0],\n",
       " ['2020-05-23', -34.0],\n",
       " ['2020-05-23', -38.8],\n",
       " ['2020-05-23', -38.8],\n",
       " ['2020-05-23', -10.5],\n",
       " ['2020-05-23', -10.5],\n",
       " ['2020-05-23', 0.02],\n",
       " ['2020-05-23', 0.02],\n",
       " ['2020-05-23', -1.24],\n",
       " ['2020-05-23', -1.24],\n",
       " ['2020-05-24', -5.87],\n",
       " ['2020-05-24', -5.87],\n",
       " ['2020-05-24', -14.84],\n",
       " ['2020-05-24', -14.84],\n",
       " ['2020-05-24', -17.06],\n",
       " ['2020-05-24', -17.06],\n",
       " ['2020-05-24', -20.0],\n",
       " ['2020-05-24', -20.0],\n",
       " ['2020-05-24', -24.56],\n",
       " ['2020-05-24', -24.56],\n",
       " ['2020-05-24', -21.77],\n",
       " ['2020-05-24', -21.77],\n",
       " ['2020-05-24', -23.92],\n",
       " ['2020-05-24', -23.92],\n",
       " ['2020-05-24', -25.43],\n",
       " ['2020-05-24', -25.43],\n",
       " ['2020-05-24', -19.38],\n",
       " ['2020-05-24', -19.38],\n",
       " ['2020-05-24', -0.01],\n",
       " ['2020-05-24', -0.01],\n",
       " ['2020-05-24', 0.0],\n",
       " ['2020-05-24', 0.0],\n",
       " ['2020-05-24', 0.0],\n",
       " ['2020-05-24', 0.0],\n",
       " ['2020-05-24', -2.17],\n",
       " ['2020-05-24', -2.17],\n",
       " ['2020-05-24', -4.0],\n",
       " ['2020-05-24', -4.0],\n",
       " ['2020-05-24', 0.87],\n",
       " ['2020-05-24', 0.87],\n",
       " ['2020-06-06', 0.17],\n",
       " ['2020-06-06', 0.17],\n",
       " ['2020-06-06', 0.12],\n",
       " ['2020-06-06', 0.12],\n",
       " ['2020-06-06', 1.26],\n",
       " ['2020-06-06', 1.26],\n",
       " ['2020-06-06', 1.17],\n",
       " ['2020-06-06', 1.17],\n",
       " ['2020-06-06', 0.07],\n",
       " ['2020-06-06', 0.07],\n",
       " ['2020-06-06', 2.44],\n",
       " ['2020-06-06', 2.44],\n",
       " ['2020-06-06', 2.24],\n",
       " ['2020-06-06', 2.24],\n",
       " ['2020-06-28', 0.0],\n",
       " ['2020-06-28', 0.0],\n",
       " ['2020-06-28', -9.5],\n",
       " ['2020-06-28', -9.5],\n",
       " ['2020-06-28', -15.06],\n",
       " ['2020-06-28', -15.06],\n",
       " ['2020-06-28', -10.9],\n",
       " ['2020-06-28', -10.9],\n",
       " ['2020-06-28', -0.03],\n",
       " ['2020-06-28', -0.03],\n",
       " ['2020-06-28', 1.32],\n",
       " ['2020-06-28', 1.32],\n",
       " ['2020-06-28', 0.0],\n",
       " ['2020-06-28', 0.0],\n",
       " ['2020-06-28', -2.67],\n",
       " ['2020-06-28', -2.67],\n",
       " ['2020-06-28', 1.94],\n",
       " ['2020-06-28', 1.94],\n",
       " ['2020-06-29', -1.7],\n",
       " ['2020-06-29', -1.7],\n",
       " ['2020-06-29', -14.0],\n",
       " ['2020-06-29', -14.0],\n",
       " ['2020-06-29', -17.65],\n",
       " ['2020-06-29', -17.65],\n",
       " ['2020-06-29', -2.0],\n",
       " ['2020-06-29', -2.0],\n",
       " ['2020-07-05', 0.07],\n",
       " ['2020-07-05', 0.07],\n",
       " ['2020-07-05', -0.04],\n",
       " ['2020-07-05', -0.04],\n",
       " ['2020-07-05', -3.36],\n",
       " ['2020-07-05', -3.36],\n",
       " ['2020-07-05', -11.9],\n",
       " ['2020-07-05', -11.9],\n",
       " ['2020-07-05', -13.13],\n",
       " ['2020-07-05', -13.13],\n",
       " ['2020-07-05', -11.85],\n",
       " ['2020-07-05', -11.85],\n",
       " ['2020-07-05', -14.49],\n",
       " ['2020-07-05', -14.49],\n",
       " ['2020-07-05', -13.47],\n",
       " ['2020-07-05', -13.47],\n",
       " ['2020-07-05', -5.1],\n",
       " ['2020-07-05', -5.1],\n",
       " ['2020-07-05', -0.01],\n",
       " ['2020-07-05', -0.01],\n",
       " ['2020-07-05', 0.02],\n",
       " ['2020-07-05', 0.02],\n",
       " ['2020-07-05', 0.04],\n",
       " ['2020-07-05', 0.04],\n",
       " ['2020-07-05', -7.9],\n",
       " ['2020-07-05', -7.9],\n",
       " ['2020-07-05', -16.89],\n",
       " ['2020-07-05', -16.89],\n",
       " ['2020-07-05', -11.69],\n",
       " ['2020-07-05', -11.69],\n",
       " ['2020-07-05', -4.65],\n",
       " ['2020-07-05', -4.65],\n",
       " ['2020-07-05', 0.04],\n",
       " ['2020-07-05', 0.04],\n",
       " ['2020-07-06', 0.0],\n",
       " ['2020-07-06', 0.0],\n",
       " ['2020-07-06', -0.71],\n",
       " ['2020-07-06', -0.71],\n",
       " ['2020-07-06', -0.08],\n",
       " ['2020-07-06', -0.08],\n",
       " ['2020-07-06', -0.9],\n",
       " ['2020-07-06', -0.9],\n",
       " ['2020-10-25', 0.14],\n",
       " ['2020-10-25', 0.14],\n",
       " ['2020-10-25', 0.08],\n",
       " ['2020-10-25', 0.08],\n",
       " ['2020-10-25', -0.09],\n",
       " ['2020-10-25', -0.09],\n",
       " ['2020-10-25', -7.18],\n",
       " ['2020-10-25', -7.18],\n",
       " ['2020-10-25', -1.02],\n",
       " ['2020-10-25', -1.02],\n",
       " ['2020-10-25', 0.09],\n",
       " ['2020-10-25', 0.09],\n",
       " ['2020-11-01', 2.96],\n",
       " ['2020-11-01', 2.96],\n",
       " ['2020-11-02', 0.0],\n",
       " ['2020-11-02', 0.0],\n",
       " ['2020-11-02', -1.22],\n",
       " ['2020-11-02', -1.22],\n",
       " ['2020-11-02', 0.11],\n",
       " ['2020-11-02', 0.11],\n",
       " ['2020-11-15', 2.47],\n",
       " ['2020-11-15', 2.47],\n",
       " ['2020-11-15', 1.67],\n",
       " ['2020-11-15', 1.67],\n",
       " ['2020-11-15', 0.12],\n",
       " ['2020-11-15', 0.12],\n",
       " ['2020-11-15', 0.69],\n",
       " ['2020-11-15', 0.69],\n",
       " ['2020-11-15', 0.44],\n",
       " ['2020-11-15', 0.44],\n",
       " ['2020-11-15', 0.89],\n",
       " ['2020-11-15', 0.89],\n",
       " ['2020-11-16', 0.28],\n",
       " ['2020-11-16', 0.28],\n",
       " ['2020-11-16', -0.09],\n",
       " ['2020-11-16', -0.09],\n",
       " ['2020-11-16', -4.36],\n",
       " ['2020-11-16', -4.36],\n",
       " ['2020-11-16', -1.09],\n",
       " ['2020-11-16', -1.09],\n",
       " ['2020-11-16', 0.52],\n",
       " ['2020-11-16', 0.52],\n",
       " ['2020-11-19', 1.84],\n",
       " ['2020-11-19', 1.84],\n",
       " ['2020-12-26', 2.74],\n",
       " ['2020-12-26', 2.74],\n",
       " ['2020-12-27', 2.13],\n",
       " ['2020-12-27', 2.13],\n",
       " ['2020-12-27', -1.04],\n",
       " ['2020-12-27', -1.04],\n",
       " ['2020-12-27', -8.28],\n",
       " ['2020-12-27', -8.28],\n",
       " ['2020-12-27', -3.08],\n",
       " ['2020-12-27', -3.08],\n",
       " ['2020-12-27', -0.08],\n",
       " ['2020-12-27', -0.08]]"
      ]
     },
     "execution_count": 7,
     "metadata": {},
     "output_type": "execute_result"
    }
   ],
   "source": [
    "#extreme days for each year, e,g,2020\n",
    "extreme(epex,2020,'timestamp')\n"
   ]
  },
  {
   "cell_type": "code",
   "execution_count": 8,
   "metadata": {
    "pycharm": {
     "name": "#%%\n"
    }
   },
   "outputs": [
    {
     "data": {
      "text/html": [
       "<div>\n",
       "<style scoped>\n",
       "    .dataframe tbody tr th:only-of-type {\n",
       "        vertical-align: middle;\n",
       "    }\n",
       "\n",
       "    .dataframe tbody tr th {\n",
       "        vertical-align: top;\n",
       "    }\n",
       "\n",
       "    .dataframe thead th {\n",
       "        text-align: right;\n",
       "    }\n",
       "</style>\n",
       "<table border=\"1\" class=\"dataframe\">\n",
       "  <thead>\n",
       "    <tr style=\"text-align: right;\">\n",
       "      <th></th>\n",
       "      <th>timestamp</th>\n",
       "      <th>SP</th>\n",
       "      <th>spot_price</th>\n",
       "    </tr>\n",
       "  </thead>\n",
       "  <tbody>\n",
       "    <tr>\n",
       "      <th>0</th>\n",
       "      <td>2019-01-02 00:00:00+00:00</td>\n",
       "      <td>1.0</td>\n",
       "      <td>40.01</td>\n",
       "    </tr>\n",
       "    <tr>\n",
       "      <th>1</th>\n",
       "      <td>2019-01-02 00:30:00+00:00</td>\n",
       "      <td>2.0</td>\n",
       "      <td>43.27</td>\n",
       "    </tr>\n",
       "    <tr>\n",
       "      <th>2</th>\n",
       "      <td>2019-01-02 01:00:00+00:00</td>\n",
       "      <td>3.0</td>\n",
       "      <td>42.72</td>\n",
       "    </tr>\n",
       "    <tr>\n",
       "      <th>3</th>\n",
       "      <td>2019-01-02 01:30:00+00:00</td>\n",
       "      <td>4.0</td>\n",
       "      <td>52.17</td>\n",
       "    </tr>\n",
       "    <tr>\n",
       "      <th>4</th>\n",
       "      <td>2019-01-02 02:00:00+00:00</td>\n",
       "      <td>5.0</td>\n",
       "      <td>53.44</td>\n",
       "    </tr>\n",
       "  </tbody>\n",
       "</table>\n",
       "</div>"
      ],
      "text/plain": [
       "                   timestamp   SP  spot_price\n",
       "0  2019-01-02 00:00:00+00:00  1.0       40.01\n",
       "1  2019-01-02 00:30:00+00:00  2.0       43.27\n",
       "2  2019-01-02 01:00:00+00:00  3.0       42.72\n",
       "3  2019-01-02 01:30:00+00:00  4.0       52.17\n",
       "4  2019-01-02 02:00:00+00:00  5.0       53.44"
      ]
     },
     "execution_count": 8,
     "metadata": {},
     "output_type": "execute_result"
    }
   ],
   "source": [
    "#compare market prices\n",
    "sip.head()"
   ]
  },
  {
   "cell_type": "code",
   "execution_count": 9,
   "metadata": {
    "pycharm": {
     "name": "#%%\n"
    }
   },
   "outputs": [
    {
     "data": {
      "text/plain": [
       "'System Buy Price(£/MWh)'"
      ]
     },
     "execution_count": 9,
     "metadata": {},
     "output_type": "execute_result"
    }
   ],
   "source": [
    "sysP.head()\n",
    "sysP.columns[3]"
   ]
  },
  {
   "cell_type": "markdown",
   "metadata": {},
   "source": [
    "# Compare different systems of pricing\n",
    "1. obtaining timescale that all three datasets share\n",
    "2. create three new datasets sharing the same timescale\n",
    "3. check normality of the price to determine the hypothesis test"
   ]
  },
  {
   "cell_type": "code",
   "execution_count": 29,
   "metadata": {
    "pycharm": {
     "name": "#%%\n"
    }
   },
   "outputs": [],
   "source": [
    "#average price of each day sip\n",
    "sipDP, sipDay = calculate_day_average(sip, 'timestamp', 'spot_price')\n"
   ]
  },
  {
   "cell_type": "code",
   "execution_count": 30,
   "metadata": {
    "pycharm": {
     "name": "#%%\n"
    }
   },
   "outputs": [],
   "source": [
    "#average value of each day of symP\n",
    "symPDP, symPDay = calculate_day_average(sysP, 'Settlement Date', sysP.columns[3])\n"
   ]
  },
  {
   "cell_type": "code",
   "execution_count": 13,
   "metadata": {
    "pycharm": {
     "name": "#%%\n"
    }
   },
   "outputs": [],
   "source": [
    "#average value of each day of epex\n",
    "epexDP, epexD = calculate_day_average(epex, 'timestamp', epex.columns[1])"
   ]
  },
  {
   "cell_type": "code",
   "execution_count": 14,
   "metadata": {
    "pycharm": {
     "name": "#%%\n"
    }
   },
   "outputs": [
    {
     "name": "stdout",
     "output_type": "stream",
     "text": [
      "[['31_3_2019', '2_1_2019', '4_8_2019'], ['22_12_2021', '16_12_2021', '15_12_2021']]\n"
     ]
    }
   ],
   "source": [
    "# obtaining same date\n",
    "range_date = [[epexD[0], sipDay[0], symPDay[0]], [epexD[len(epexD)-1], sipDay[len(sipDay)-1], symPDay[len(symPDay)-1]]]\n",
    "print(range_date)"
   ]
  },
  {
   "cell_type": "code",
   "execution_count": 15,
   "metadata": {
    "pycharm": {
     "name": "#%%\n"
    }
   },
   "outputs": [],
   "source": [
    "overlap_range = ['4_8_2019', '15_12_2021']\n",
    "def aligned(dp, day, overlap_range):\n",
    "    dayn = np.array(day)\n",
    "    index = []\n",
    "    for i in range(len(day)):\n",
    "        if day[i] == overlap_range[0]:\n",
    "            index.append(i)\n",
    "        if day[i] == overlap_range[1]:\n",
    "            index.append(i)\n",
    "    new_df = pd.DataFrame(dp[index[0]:index[1]], day[index[0]:index[1]])\n",
    "    return new_df"
   ]
  },
  {
   "cell_type": "code",
   "execution_count": 16,
   "metadata": {
    "pycharm": {
     "name": "#%%\n"
    }
   },
   "outputs": [
    {
     "data": {
      "text/html": [
       "<div>\n",
       "<style scoped>\n",
       "    .dataframe tbody tr th:only-of-type {\n",
       "        vertical-align: middle;\n",
       "    }\n",
       "\n",
       "    .dataframe tbody tr th {\n",
       "        vertical-align: top;\n",
       "    }\n",
       "\n",
       "    .dataframe thead th {\n",
       "        text-align: right;\n",
       "    }\n",
       "</style>\n",
       "<table border=\"1\" class=\"dataframe\">\n",
       "  <thead>\n",
       "    <tr style=\"text-align: right;\">\n",
       "      <th></th>\n",
       "      <th>0</th>\n",
       "    </tr>\n",
       "  </thead>\n",
       "  <tbody>\n",
       "    <tr>\n",
       "      <th>4_8_2019</th>\n",
       "      <td>41.865417</td>\n",
       "    </tr>\n",
       "    <tr>\n",
       "      <th>5_8_2019</th>\n",
       "      <td>40.042500</td>\n",
       "    </tr>\n",
       "    <tr>\n",
       "      <th>6_8_2019</th>\n",
       "      <td>40.860833</td>\n",
       "    </tr>\n",
       "    <tr>\n",
       "      <th>7_8_2019</th>\n",
       "      <td>38.316250</td>\n",
       "    </tr>\n",
       "    <tr>\n",
       "      <th>8_8_2019</th>\n",
       "      <td>38.250000</td>\n",
       "    </tr>\n",
       "  </tbody>\n",
       "</table>\n",
       "</div>"
      ],
      "text/plain": [
       "                  0\n",
       "4_8_2019  41.865417\n",
       "5_8_2019  40.042500\n",
       "6_8_2019  40.860833\n",
       "7_8_2019  38.316250\n",
       "8_8_2019  38.250000"
      ]
     },
     "execution_count": 16,
     "metadata": {},
     "output_type": "execute_result"
    }
   ],
   "source": [
    "alepex = aligned(epexDP, epexD, overlap_range)\n",
    "alepex.head()"
   ]
  },
  {
   "cell_type": "code",
   "execution_count": 17,
   "metadata": {
    "pycharm": {
     "name": "#%%\n"
    }
   },
   "outputs": [],
   "source": [
    "alsym = aligned(symPDP, symPDay, overlap_range)\n",
    "alsip = aligned(sipDP, sipDay, overlap_range)"
   ]
  },
  {
   "cell_type": "code",
   "execution_count": 18,
   "metadata": {
    "pycharm": {
     "name": "#%%\n"
    }
   },
   "outputs": [
    {
     "data": {
      "text/plain": [
       "(array([589., 164.,  67.,  10.,   1.,   0.,   0.,   0.,   0.,   1.]),\n",
       " array([-13.59895833,  66.13841667, 145.87579167, 225.61316667,\n",
       "        305.35054167, 385.08791667, 464.82529167, 544.56266667,\n",
       "        624.30004167, 704.03741667, 783.77479167]),\n",
       " <BarContainer object of 10 artists>)"
      ]
     },
     "execution_count": 18,
     "metadata": {},
     "output_type": "execute_result"
    },
    {
     "data": {
      "image/png": "[encoded data removed]",
      "text/plain": [
       "<Figure size 432x288 with 1 Axes>"
      ]
     },
     "metadata": {
      "needs_background": "light"
     },
     "output_type": "display_data"
    }
   ],
   "source": [
    "#correlation\n",
    "plt.hist(alsip[0])# not normal distribution"
   ]
  },
  {
   "cell_type": "code",
   "execution_count": 19,
   "metadata": {
    "pycharm": {
     "name": "#%%\n"
    }
   },
   "outputs": [
    {
     "data": {
      "text/plain": [
       "(array([183., 472., 102.,  36.,  41.,  17.,   9.,   1.,   1.,   2.]),\n",
       " array([-10.58916667,  32.64266667,  75.8745    , 119.10633333,\n",
       "        162.33816667, 205.57      , 248.80183333, 292.03366667,\n",
       "        335.2655    , 378.49733333, 421.72916667]),\n",
       " <BarContainer object of 10 artists>)"
      ]
     },
     "execution_count": 19,
     "metadata": {},
     "output_type": "execute_result"
    },
    {
     "data": {
      "image/png": "[encoded data removed]",
      "text/plain": [
       "<Figure size 432x288 with 1 Axes>"
      ]
     },
     "metadata": {
      "needs_background": "light"
     },
     "output_type": "display_data"
    }
   ],
   "source": [
    "plt.hist(alepex)# not normal distribution"
   ]
  },
  {
   "cell_type": "code",
   "execution_count": 20,
   "metadata": {
    "pycharm": {
     "name": "#%%\n"
    }
   },
   "outputs": [
    {
     "data": {
      "text/plain": [
       "(array([774., 168.,  34.,   4.,   1.,   0.,   0.,   0.,   0.,   1.]),\n",
       " array([-16.91110354,  80.80360592, 178.51831537, 276.23302483,\n",
       "        373.94773429, 471.66244375, 569.37715321, 667.09186267,\n",
       "        764.80657213, 862.52128158, 960.23599104]),\n",
       " <BarContainer object of 10 artists>)"
      ]
     },
     "execution_count": 20,
     "metadata": {},
     "output_type": "execute_result"
    },
    {
     "data": {
      "image/png": "[encoded data removed]",
      "text/plain": [
       "<Figure size 432x288 with 1 Axes>"
      ]
     },
     "metadata": {
      "needs_background": "light"
     },
     "output_type": "display_data"
    }
   ],
   "source": [
    "plt.hist(alsym) # not normal distribution"
   ]
  },
  {
   "cell_type": "markdown",
   "metadata": {},
   "source": [
    "- All shows non-normality, therefore using spearman correlation test"
   ]
  },
  {
   "cell_type": "code",
   "execution_count": 21,
   "metadata": {
    "pycharm": {
     "name": "#%%\n"
    }
   },
   "outputs": [
    {
     "data": {
      "text/plain": [
       "0.8169342612519072"
      ]
     },
     "execution_count": 21,
     "metadata": {},
     "output_type": "execute_result"
    }
   ],
   "source": [
    "alepex[0].corr(alsym[0], method='spearman') # spearman correlation epex v.s. sym"
   ]
  },
  {
   "cell_type": "code",
   "execution_count": 22,
   "metadata": {
    "pycharm": {
     "name": "#%%\n"
    }
   },
   "outputs": [
    {
     "data": {
      "text/plain": [
       "0.9587328266491267"
      ]
     },
     "execution_count": 22,
     "metadata": {},
     "output_type": "execute_result"
    }
   ],
   "source": [
    "alepex[0].corr(alsip[0], method='spearman') #spearman correlation epex v.s. sip"
   ]
  },
  {
   "cell_type": "code",
   "execution_count": 23,
   "metadata": {
    "pycharm": {
     "name": "#%%\n"
    }
   },
   "outputs": [
    {
     "data": {
      "text/plain": [
       "0.854473225198895"
      ]
     },
     "execution_count": 23,
     "metadata": {},
     "output_type": "execute_result"
    }
   ],
   "source": [
    "alsip[0].corr(alsym[0], method='spearman') #spearman correlation sip v.s. sym"
   ]
  },
  {
   "cell_type": "markdown",
   "metadata": {},
   "source": [
    "# Seasonality\n",
    "- Seasonality uses autocorrelation"
   ]
  },
  {
   "cell_type": "code",
   "execution_count": 24,
   "metadata": {
    "pycharm": {
     "name": "#%%\n"
    }
   },
   "outputs": [
    {
     "data": {
      "image/png": "[encoded data removed]",
      "text/plain": [
       "<Figure size 432x288 with 1 Axes>"
      ]
     },
     "metadata": {
      "needs_background": "light"
     },
     "output_type": "display_data"
    }
   ],
   "source": [
    "#seasonality\n",
    "\n",
    "from statsmodels.graphics.tsaplots import plot_acf\n",
    "epex = epex[['timestamp', 'apx_da_hourly']].set_index(['timestamp'])\n",
    "\n",
    "#plot autocorrelation\n",
    "plot_acf(epex.apx_da_hourly)\n",
    "plt.show() #no seasonality"
   ]
  },
  {
   "cell_type": "markdown",
   "metadata": {},
   "source": [
    "- there is no periodic change using autocorrelation between prices of different timesteps, possibly due to the general increases in prices over the years\n",
    "- we compute the difference in prices between prices of a particular time piont and the next time point，assuming that there is no big changes in small temporal window.\n",
    "- And then we uses these differences to perform autocorrelation"
   ]
  },
  {
   "cell_type": "code",
   "execution_count": 33,
   "metadata": {},
   "outputs": [],
   "source": [
    "# difference in prices between prices of a particular time piont and the next time point\n",
    "first_diffs = epex.apx_da_hourly.values[1:] - epex.apx_da_hourly.values[:-1] \n",
    "epex['PriceDiffs'] = np.concatenate([first_diffs, [0]])\n",
    "epex.drop(epex[epex.PriceDiffs == 0].index, inplace=True)"
   ]
  },
  {
   "cell_type": "code",
   "execution_count": 34,
   "metadata": {},
   "outputs": [
    {
     "data": {
      "text/html": [
       "<div>\n",
       "<style scoped>\n",
       "    .dataframe tbody tr th:only-of-type {\n",
       "        vertical-align: middle;\n",
       "    }\n",
       "\n",
       "    .dataframe tbody tr th {\n",
       "        vertical-align: top;\n",
       "    }\n",
       "\n",
       "    .dataframe thead th {\n",
       "        text-align: right;\n",
       "    }\n",
       "</style>\n",
       "<table border=\"1\" class=\"dataframe\">\n",
       "  <thead>\n",
       "    <tr style=\"text-align: right;\">\n",
       "      <th></th>\n",
       "      <th>apx_da_hourly</th>\n",
       "      <th>PriceDiffs</th>\n",
       "    </tr>\n",
       "    <tr>\n",
       "      <th>timestamp</th>\n",
       "      <th></th>\n",
       "      <th></th>\n",
       "    </tr>\n",
       "  </thead>\n",
       "  <tbody>\n",
       "    <tr>\n",
       "      <th>2019-03-31 23:30:00+00:00</th>\n",
       "      <td>26.43</td>\n",
       "      <td>2.81</td>\n",
       "    </tr>\n",
       "    <tr>\n",
       "      <th>2019-04-01 00:30:00+00:00</th>\n",
       "      <td>29.24</td>\n",
       "      <td>5.86</td>\n",
       "    </tr>\n",
       "    <tr>\n",
       "      <th>2019-04-01 01:30:00+00:00</th>\n",
       "      <td>35.10</td>\n",
       "      <td>-4.19</td>\n",
       "    </tr>\n",
       "    <tr>\n",
       "      <th>2019-04-01 02:30:00+00:00</th>\n",
       "      <td>30.91</td>\n",
       "      <td>1.35</td>\n",
       "    </tr>\n",
       "    <tr>\n",
       "      <th>2019-04-01 03:30:00+00:00</th>\n",
       "      <td>32.26</td>\n",
       "      <td>8.26</td>\n",
       "    </tr>\n",
       "  </tbody>\n",
       "</table>\n",
       "</div>"
      ],
      "text/plain": [
       "                           apx_da_hourly  PriceDiffs\n",
       "timestamp                                           \n",
       "2019-03-31 23:30:00+00:00          26.43        2.81\n",
       "2019-04-01 00:30:00+00:00          29.24        5.86\n",
       "2019-04-01 01:30:00+00:00          35.10       -4.19\n",
       "2019-04-01 02:30:00+00:00          30.91        1.35\n",
       "2019-04-01 03:30:00+00:00          32.26        8.26"
      ]
     },
     "execution_count": 34,
     "metadata": {},
     "output_type": "execute_result"
    }
   ],
   "source": [
    "epex.head()"
   ]
  },
  {
   "cell_type": "code",
   "execution_count": 27,
   "metadata": {},
   "outputs": [
    {
     "data": {
      "image/png": "[encoded data removed]",
      "text/plain": [
       "<Figure size 5760x1440 with 1 Axes>"
      ]
     },
     "metadata": {
      "needs_background": "light"
     },
     "output_type": "display_data"
    }
   ],
   "source": [
    "from statsmodels.graphics.tsaplots import plot_pacf\n",
    "fig, ax = plt.subplots(figsize=(80, 20))\n",
    "plot_acf(epex.PriceDiffs, lags=400, ax=ax) #autocorrelation \n",
    "plt.show() #showed weak correlation and periodicity"
   ]
  },
  {
   "cell_type": "code",
   "execution_count": 28,
   "metadata": {},
   "outputs": [
    {
     "data": {
      "image/png": "[encoded data removed]",
      "text/plain": [
       "<Figure size 5760x1440 with 1 Axes>"
      ]
     },
     "metadata": {
      "needs_background": "light"
     },
     "output_type": "display_data"
    }
   ],
   "source": [
    "fig, ax = plt.subplots(figsize=(80, 20))\n",
    "plot_pacf(epex.PriceDiffs, lags=400, ax=ax) #trying partial autocorrelation but no improvment\n",
    "plt.show()"
   ]
  },
  {
   "cell_type": "markdown",
   "metadata": {},
   "source": [
    "- Autocorrelation analysis showed there is weak and decaying periodicity as lags inreases. However, it is not necessary that it indicates there is a role of seasonality in determining electricity prices"
   ]
  }
 ],
 "metadata": {
  "kernelspec": {
   "display_name": "Python 3",
   "language": "python",
   "name": "python3"
  },
  "language_info": {
   "codemirror_mode": {
    "name": "ipython",
    "version": 3
   },
   "file_extension": ".py",
   "mimetype": "text/x-python",
   "name": "python",
   "nbconvert_exporter": "python",
   "pygments_lexer": "ipython3",
   "version": "3.8.5"
  }
 },
 "nbformat": 4,
 "nbformat_minor": 1
}
