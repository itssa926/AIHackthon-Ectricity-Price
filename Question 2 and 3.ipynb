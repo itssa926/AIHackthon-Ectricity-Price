{
 "cells": [
  {
   "cell_type": "code",
   "execution_count": 1,
   "metadata": {},
   "outputs": [],
   "source": [
    "# Import necessary modules.\n",
    "import pandas as pd\n",
    "import numpy as np\n",
    "import matplotlib.pyplot as plt\n",
    "import tensorflow as tf"
   ]
  },
  {
   "cell_type": "code",
   "execution_count": 2,
   "metadata": {},
   "outputs": [],
   "source": [
    "# Read the data\n",
    "epex = pd.read_csv('epex_day_ahead_price.csv')\n",
    "spot = pd.read_csv('spot_intraday_price.csv')\n",
    "system = pd.read_csv('systemprice.csv')"
   ]
  },
  {
   "cell_type": "code",
   "execution_count": 3,
   "metadata": {
    "scrolled": true
   },
   "outputs": [
    {
     "data": {
      "text/html": [
       "<div>\n",
       "<style scoped>\n",
       "    .dataframe tbody tr th:only-of-type {\n",
       "        vertical-align: middle;\n",
       "    }\n",
       "\n",
       "    .dataframe tbody tr th {\n",
       "        vertical-align: top;\n",
       "    }\n",
       "\n",
       "    .dataframe thead th {\n",
       "        text-align: right;\n",
       "    }\n",
       "</style>\n",
       "<table border=\"1\" class=\"dataframe\">\n",
       "  <thead>\n",
       "    <tr style=\"text-align: right;\">\n",
       "      <th></th>\n",
       "      <th>timestamp</th>\n",
       "      <th>apx_da_hourly</th>\n",
       "    </tr>\n",
       "  </thead>\n",
       "  <tbody>\n",
       "    <tr>\n",
       "      <th>0</th>\n",
       "      <td>2019-03-31 23:00:00+00:00</td>\n",
       "      <td>26.43</td>\n",
       "    </tr>\n",
       "    <tr>\n",
       "      <th>1</th>\n",
       "      <td>2019-03-31 23:30:00+00:00</td>\n",
       "      <td>26.43</td>\n",
       "    </tr>\n",
       "    <tr>\n",
       "      <th>2</th>\n",
       "      <td>2019-04-01 00:00:00+00:00</td>\n",
       "      <td>29.24</td>\n",
       "    </tr>\n",
       "    <tr>\n",
       "      <th>3</th>\n",
       "      <td>2019-04-01 00:30:00+00:00</td>\n",
       "      <td>29.24</td>\n",
       "    </tr>\n",
       "    <tr>\n",
       "      <th>4</th>\n",
       "      <td>2019-04-01 01:00:00+00:00</td>\n",
       "      <td>35.10</td>\n",
       "    </tr>\n",
       "  </tbody>\n",
       "</table>\n",
       "</div>"
      ],
      "text/plain": [
       "                   timestamp  apx_da_hourly\n",
       "0  2019-03-31 23:00:00+00:00          26.43\n",
       "1  2019-03-31 23:30:00+00:00          26.43\n",
       "2  2019-04-01 00:00:00+00:00          29.24\n",
       "3  2019-04-01 00:30:00+00:00          29.24\n",
       "4  2019-04-01 01:00:00+00:00          35.10"
      ]
     },
     "execution_count": 3,
     "metadata": {},
     "output_type": "execute_result"
    }
   ],
   "source": [
    "epex.head()"
   ]
  },
  {
   "cell_type": "code",
   "execution_count": 4,
   "metadata": {},
   "outputs": [
    {
     "data": {
      "text/html": [
       "<div>\n",
       "<style scoped>\n",
       "    .dataframe tbody tr th:only-of-type {\n",
       "        vertical-align: middle;\n",
       "    }\n",
       "\n",
       "    .dataframe tbody tr th {\n",
       "        vertical-align: top;\n",
       "    }\n",
       "\n",
       "    .dataframe thead th {\n",
       "        text-align: right;\n",
       "    }\n",
       "</style>\n",
       "<table border=\"1\" class=\"dataframe\">\n",
       "  <thead>\n",
       "    <tr style=\"text-align: right;\">\n",
       "      <th></th>\n",
       "      <th>timestamp</th>\n",
       "      <th>SP</th>\n",
       "      <th>spot_price</th>\n",
       "    </tr>\n",
       "  </thead>\n",
       "  <tbody>\n",
       "    <tr>\n",
       "      <th>0</th>\n",
       "      <td>2019-01-02 00:00:00+00:00</td>\n",
       "      <td>1.0</td>\n",
       "      <td>40.01</td>\n",
       "    </tr>\n",
       "    <tr>\n",
       "      <th>1</th>\n",
       "      <td>2019-01-02 00:30:00+00:00</td>\n",
       "      <td>2.0</td>\n",
       "      <td>43.27</td>\n",
       "    </tr>\n",
       "    <tr>\n",
       "      <th>2</th>\n",
       "      <td>2019-01-02 01:00:00+00:00</td>\n",
       "      <td>3.0</td>\n",
       "      <td>42.72</td>\n",
       "    </tr>\n",
       "    <tr>\n",
       "      <th>3</th>\n",
       "      <td>2019-01-02 01:30:00+00:00</td>\n",
       "      <td>4.0</td>\n",
       "      <td>52.17</td>\n",
       "    </tr>\n",
       "    <tr>\n",
       "      <th>4</th>\n",
       "      <td>2019-01-02 02:00:00+00:00</td>\n",
       "      <td>5.0</td>\n",
       "      <td>53.44</td>\n",
       "    </tr>\n",
       "  </tbody>\n",
       "</table>\n",
       "</div>"
      ],
      "text/plain": [
       "                   timestamp   SP  spot_price\n",
       "0  2019-01-02 00:00:00+00:00  1.0       40.01\n",
       "1  2019-01-02 00:30:00+00:00  2.0       43.27\n",
       "2  2019-01-02 01:00:00+00:00  3.0       42.72\n",
       "3  2019-01-02 01:30:00+00:00  4.0       52.17\n",
       "4  2019-01-02 02:00:00+00:00  5.0       53.44"
      ]
     },
     "execution_count": 4,
     "metadata": {},
     "output_type": "execute_result"
    }
   ],
   "source": [
    "spot.head()"
   ]
  },
  {
   "cell_type": "code",
   "execution_count": 5,
   "metadata": {
    "scrolled": true
   },
   "outputs": [
    {
     "data": {
      "text/html": [
       "<div>\n",
       "<style scoped>\n",
       "    .dataframe tbody tr th:only-of-type {\n",
       "        vertical-align: middle;\n",
       "    }\n",
       "\n",
       "    .dataframe tbody tr th {\n",
       "        vertical-align: top;\n",
       "    }\n",
       "\n",
       "    .dataframe thead th {\n",
       "        text-align: right;\n",
       "    }\n",
       "</style>\n",
       "<table border=\"1\" class=\"dataframe\">\n",
       "  <thead>\n",
       "    <tr style=\"text-align: right;\">\n",
       "      <th></th>\n",
       "      <th>Settlement Date</th>\n",
       "      <th>Settlement Period</th>\n",
       "      <th>System Sell Price(£/MWh)</th>\n",
       "      <th>System Buy Price(£/MWh)</th>\n",
       "      <th>Net Imbalance Volume(MWh)</th>\n",
       "    </tr>\n",
       "  </thead>\n",
       "  <tbody>\n",
       "    <tr>\n",
       "      <th>0</th>\n",
       "      <td>08/04/2019</td>\n",
       "      <td>1</td>\n",
       "      <td>52.25</td>\n",
       "      <td>52.25</td>\n",
       "      <td>195.4258</td>\n",
       "    </tr>\n",
       "    <tr>\n",
       "      <th>1</th>\n",
       "      <td>08/04/2019</td>\n",
       "      <td>2</td>\n",
       "      <td>51.90</td>\n",
       "      <td>51.90</td>\n",
       "      <td>62.2486</td>\n",
       "    </tr>\n",
       "    <tr>\n",
       "      <th>2</th>\n",
       "      <td>08/04/2019</td>\n",
       "      <td>3</td>\n",
       "      <td>32.76</td>\n",
       "      <td>32.76</td>\n",
       "      <td>-40.7968</td>\n",
       "    </tr>\n",
       "    <tr>\n",
       "      <th>3</th>\n",
       "      <td>08/04/2019</td>\n",
       "      <td>4</td>\n",
       "      <td>50.85</td>\n",
       "      <td>50.85</td>\n",
       "      <td>22.6933</td>\n",
       "    </tr>\n",
       "    <tr>\n",
       "      <th>4</th>\n",
       "      <td>08/04/2019</td>\n",
       "      <td>5</td>\n",
       "      <td>51.40</td>\n",
       "      <td>51.40</td>\n",
       "      <td>186.5092</td>\n",
       "    </tr>\n",
       "  </tbody>\n",
       "</table>\n",
       "</div>"
      ],
      "text/plain": [
       "  Settlement Date  Settlement Period  System Sell Price(£/MWh)  \\\n",
       "0      08/04/2019                  1                     52.25   \n",
       "1      08/04/2019                  2                     51.90   \n",
       "2      08/04/2019                  3                     32.76   \n",
       "3      08/04/2019                  4                     50.85   \n",
       "4      08/04/2019                  5                     51.40   \n",
       "\n",
       "   System Buy Price(£/MWh)  Net Imbalance Volume(MWh)  \n",
       "0                    52.25                   195.4258  \n",
       "1                    51.90                    62.2486  \n",
       "2                    32.76                   -40.7968  \n",
       "3                    50.85                    22.6933  \n",
       "4                    51.40                   186.5092  "
      ]
     },
     "execution_count": 5,
     "metadata": {},
     "output_type": "execute_result"
    }
   ],
   "source": [
    "system.head()"
   ]
  },
  {
   "cell_type": "code",
   "execution_count": 6,
   "metadata": {
    "scrolled": true
   },
   "outputs": [
    {
     "data": {
      "text/plain": [
       "[<matplotlib.lines.Line2D at 0x7fef537b1b50>]"
      ]
     },
     "execution_count": 6,
     "metadata": {},
     "output_type": "execute_result"
    },
    {
     "data": {
      "image/png": "[encoded data removed]",
      "text/plain": [
       "<Figure size 432x288 with 1 Axes>"
      ]
     },
     "metadata": {
      "needs_background": "light"
     },
     "output_type": "display_data"
    }
   ],
   "source": [
    "# Plot the epex prices in 2019.\n",
    "epex[\"timestamp\"]=pd.to_datetime(epex[\"timestamp\"])\n",
    "epex['year'] = epex['timestamp'].dt.year\n",
    "epex_2019 = epex[epex[\"year\"].isin([2019])]\n",
    "plt.plot(epex_2019.apx_da_hourly)"
   ]
  },
  {
   "cell_type": "code",
   "execution_count": 7,
   "metadata": {},
   "outputs": [
    {
     "data": {
      "text/plain": [
       "[<matplotlib.lines.Line2D at 0x7fef53b40640>]"
      ]
     },
     "execution_count": 7,
     "metadata": {},
     "output_type": "execute_result"
    },
    {
     "data": {
      "image/png": "[encoded data removed]",
      "text/plain": [
       "<Figure size 432x288 with 1 Axes>"
      ]
     },
     "metadata": {
      "needs_background": "light"
     },
     "output_type": "display_data"
    }
   ],
   "source": [
    "# Plot the spot prices in 2019.\n",
    "spot[\"timestamp\"]=pd.to_datetime(spot[\"timestamp\"])\n",
    "spot['year'] = spot['timestamp'].dt.year\n",
    "spot_2019 = spot[spot[\"year\"].isin([2019])]\n",
    "plt.plot(spot_2019.spot_price)"
   ]
  },
  {
   "cell_type": "code",
   "execution_count": 8,
   "metadata": {
    "scrolled": true
   },
   "outputs": [],
   "source": [
    "# Separate the dataset according to the year.\n",
    "epex[\"timestamp\"]=pd.to_datetime(epex[\"timestamp\"])\n",
    "epex['year'] = epex['timestamp'].dt.year\n",
    "epex_2019 = epex[epex[\"year\"].isin([2019])]\n",
    "epex_2020 = epex[epex[\"year\"].isin([2020])]\n",
    "epex_2021 = epex[epex[\"year\"].isin([2021])]"
   ]
  },
  {
   "cell_type": "code",
   "execution_count": 9,
   "metadata": {
    "scrolled": true
   },
   "outputs": [
    {
     "name": "stderr",
     "output_type": "stream",
     "text": [
      "<ipython-input-9-5b83fe4d350b>:3: SettingWithCopyWarning: \n",
      "A value is trying to be set on a copy of a slice from a DataFrame.\n",
      "Try using .loc[row_indexer,col_indexer] = value instead\n",
      "\n",
      "See the caveats in the documentation: https://pandas.pydata.org/pandas-docs/stable/user_guide/indexing.html#returning-a-view-versus-a-copy\n",
      "  epex_2020['number'] = number\n",
      "<ipython-input-9-5b83fe4d350b>:4: SettingWithCopyWarning: \n",
      "A value is trying to be set on a copy of a slice from a DataFrame.\n",
      "Try using .loc[row_indexer,col_indexer] = value instead\n",
      "\n",
      "See the caveats in the documentation: https://pandas.pydata.org/pandas-docs/stable/user_guide/indexing.html#returning-a-view-versus-a-copy\n",
      "  epex_2020['square'] = np.array(number)**2\n"
     ]
    }
   ],
   "source": [
    "# Assign each time point in a year with an unique integer in order to use time to train the model.\n",
    "number = [i for i in range(len(epex_2020['timestamp']))]\n",
    "epex_2020['number'] = number\n",
    "epex_2020['square'] = np.array(number)**2"
   ]
  },
  {
   "cell_type": "code",
   "execution_count": 10,
   "metadata": {},
   "outputs": [
    {
     "data": {
      "text/html": [
       "<div>\n",
       "<style scoped>\n",
       "    .dataframe tbody tr th:only-of-type {\n",
       "        vertical-align: middle;\n",
       "    }\n",
       "\n",
       "    .dataframe tbody tr th {\n",
       "        vertical-align: top;\n",
       "    }\n",
       "\n",
       "    .dataframe thead th {\n",
       "        text-align: right;\n",
       "    }\n",
       "</style>\n",
       "<table border=\"1\" class=\"dataframe\">\n",
       "  <thead>\n",
       "    <tr style=\"text-align: right;\">\n",
       "      <th></th>\n",
       "      <th>timestamp</th>\n",
       "      <th>apx_da_hourly</th>\n",
       "      <th>year</th>\n",
       "      <th>number</th>\n",
       "      <th>square</th>\n",
       "    </tr>\n",
       "  </thead>\n",
       "  <tbody>\n",
       "    <tr>\n",
       "      <th>17568</th>\n",
       "      <td>2020-03-31 23:00:00+00:00</td>\n",
       "      <td>24.53</td>\n",
       "      <td>2020</td>\n",
       "      <td>4366</td>\n",
       "      <td>19061956</td>\n",
       "    </tr>\n",
       "  </tbody>\n",
       "</table>\n",
       "</div>"
      ],
      "text/plain": [
       "                      timestamp  apx_da_hourly  year  number    square\n",
       "17568 2020-03-31 23:00:00+00:00          24.53  2020    4366  19061956"
      ]
     },
     "execution_count": 10,
     "metadata": {},
     "output_type": "execute_result"
    }
   ],
   "source": [
    "epex_2020[epex_2020['timestamp']=='2020-03-31 23:00:00+00:00']"
   ]
  },
  {
   "cell_type": "code",
   "execution_count": 11,
   "metadata": {},
   "outputs": [
    {
     "name": "stderr",
     "output_type": "stream",
     "text": [
      "<ipython-input-11-28f0194b71d5>:3: SettingWithCopyWarning: \n",
      "A value is trying to be set on a copy of a slice from a DataFrame.\n",
      "Try using .loc[row_indexer,col_indexer] = value instead\n",
      "\n",
      "See the caveats in the documentation: https://pandas.pydata.org/pandas-docs/stable/user_guide/indexing.html#returning-a-view-versus-a-copy\n",
      "  epex_2019['number'] = number\n",
      "<ipython-input-11-28f0194b71d5>:4: SettingWithCopyWarning: \n",
      "A value is trying to be set on a copy of a slice from a DataFrame.\n",
      "Try using .loc[row_indexer,col_indexer] = value instead\n",
      "\n",
      "See the caveats in the documentation: https://pandas.pydata.org/pandas-docs/stable/user_guide/indexing.html#returning-a-view-versus-a-copy\n",
      "  epex_2019['square'] = np.array(number)**2\n"
     ]
    }
   ],
   "source": [
    "# Assign each time point in a year with an unique integer.\n",
    "number = [i for i in range(4366,len(epex_2020['timestamp']))]\n",
    "epex_2019['number'] = number\n",
    "epex_2019['square'] = np.array(number)**2"
   ]
  },
  {
   "cell_type": "code",
   "execution_count": 12,
   "metadata": {},
   "outputs": [
    {
     "name": "stderr",
     "output_type": "stream",
     "text": [
      "<ipython-input-12-05624bc2708d>:3: SettingWithCopyWarning: \n",
      "A value is trying to be set on a copy of a slice from a DataFrame.\n",
      "Try using .loc[row_indexer,col_indexer] = value instead\n",
      "\n",
      "See the caveats in the documentation: https://pandas.pydata.org/pandas-docs/stable/user_guide/indexing.html#returning-a-view-versus-a-copy\n",
      "  epex_2021['number'] = number\n",
      "<ipython-input-12-05624bc2708d>:4: SettingWithCopyWarning: \n",
      "A value is trying to be set on a copy of a slice from a DataFrame.\n",
      "Try using .loc[row_indexer,col_indexer] = value instead\n",
      "\n",
      "See the caveats in the documentation: https://pandas.pydata.org/pandas-docs/stable/user_guide/indexing.html#returning-a-view-versus-a-copy\n",
      "  epex_2021['square'] = np.array(number)**2\n"
     ]
    }
   ],
   "source": [
    "# Assign each time point in a year with an unique integer.\n",
    "number = [i for i in range(len(epex_2021['timestamp']))]\n",
    "epex_2021['number'] = number\n",
    "epex_2021['square'] = np.array(number)**2"
   ]
  },
  {
   "cell_type": "code",
   "execution_count": 13,
   "metadata": {},
   "outputs": [
    {
     "data": {
      "text/html": [
       "<div>\n",
       "<style scoped>\n",
       "    .dataframe tbody tr th:only-of-type {\n",
       "        vertical-align: middle;\n",
       "    }\n",
       "\n",
       "    .dataframe tbody tr th {\n",
       "        vertical-align: top;\n",
       "    }\n",
       "\n",
       "    .dataframe thead th {\n",
       "        text-align: right;\n",
       "    }\n",
       "</style>\n",
       "<table border=\"1\" class=\"dataframe\">\n",
       "  <thead>\n",
       "    <tr style=\"text-align: right;\">\n",
       "      <th></th>\n",
       "      <th>timestamp</th>\n",
       "      <th>apx_da_hourly</th>\n",
       "      <th>year</th>\n",
       "      <th>number</th>\n",
       "      <th>square</th>\n",
       "    </tr>\n",
       "  </thead>\n",
       "  <tbody>\n",
       "    <tr>\n",
       "      <th>0</th>\n",
       "      <td>2019-03-31 23:00:00+00:00</td>\n",
       "      <td>26.43</td>\n",
       "      <td>2019</td>\n",
       "      <td>4366</td>\n",
       "      <td>19061956</td>\n",
       "    </tr>\n",
       "    <tr>\n",
       "      <th>1</th>\n",
       "      <td>2019-03-31 23:30:00+00:00</td>\n",
       "      <td>26.43</td>\n",
       "      <td>2019</td>\n",
       "      <td>4367</td>\n",
       "      <td>19070689</td>\n",
       "    </tr>\n",
       "    <tr>\n",
       "      <th>2</th>\n",
       "      <td>2019-04-01 00:00:00+00:00</td>\n",
       "      <td>29.24</td>\n",
       "      <td>2019</td>\n",
       "      <td>4368</td>\n",
       "      <td>19079424</td>\n",
       "    </tr>\n",
       "    <tr>\n",
       "      <th>3</th>\n",
       "      <td>2019-04-01 00:30:00+00:00</td>\n",
       "      <td>29.24</td>\n",
       "      <td>2019</td>\n",
       "      <td>4369</td>\n",
       "      <td>19088161</td>\n",
       "    </tr>\n",
       "    <tr>\n",
       "      <th>4</th>\n",
       "      <td>2019-04-01 01:00:00+00:00</td>\n",
       "      <td>35.10</td>\n",
       "      <td>2019</td>\n",
       "      <td>4370</td>\n",
       "      <td>19096900</td>\n",
       "    </tr>\n",
       "    <tr>\n",
       "      <th>...</th>\n",
       "      <td>...</td>\n",
       "      <td>...</td>\n",
       "      <td>...</td>\n",
       "      <td>...</td>\n",
       "      <td>...</td>\n",
       "    </tr>\n",
       "    <tr>\n",
       "      <th>47853</th>\n",
       "      <td>2021-12-22 21:30:00+00:00</td>\n",
       "      <td>315.00</td>\n",
       "      <td>2021</td>\n",
       "      <td>17083</td>\n",
       "      <td>291828889</td>\n",
       "    </tr>\n",
       "    <tr>\n",
       "      <th>47854</th>\n",
       "      <td>2021-12-22 22:00:00+00:00</td>\n",
       "      <td>276.85</td>\n",
       "      <td>2021</td>\n",
       "      <td>17084</td>\n",
       "      <td>291863056</td>\n",
       "    </tr>\n",
       "    <tr>\n",
       "      <th>47855</th>\n",
       "      <td>2021-12-22 22:30:00+00:00</td>\n",
       "      <td>276.85</td>\n",
       "      <td>2021</td>\n",
       "      <td>17085</td>\n",
       "      <td>291897225</td>\n",
       "    </tr>\n",
       "    <tr>\n",
       "      <th>47856</th>\n",
       "      <td>2021-12-22 23:00:00+00:00</td>\n",
       "      <td>325.40</td>\n",
       "      <td>2021</td>\n",
       "      <td>17086</td>\n",
       "      <td>291931396</td>\n",
       "    </tr>\n",
       "    <tr>\n",
       "      <th>47857</th>\n",
       "      <td>2021-12-22 23:30:00+00:00</td>\n",
       "      <td>325.40</td>\n",
       "      <td>2021</td>\n",
       "      <td>17087</td>\n",
       "      <td>291965569</td>\n",
       "    </tr>\n",
       "  </tbody>\n",
       "</table>\n",
       "<p>47858 rows × 5 columns</p>\n",
       "</div>"
      ],
      "text/plain": [
       "                      timestamp  apx_da_hourly  year  number     square\n",
       "0     2019-03-31 23:00:00+00:00          26.43  2019    4366   19061956\n",
       "1     2019-03-31 23:30:00+00:00          26.43  2019    4367   19070689\n",
       "2     2019-04-01 00:00:00+00:00          29.24  2019    4368   19079424\n",
       "3     2019-04-01 00:30:00+00:00          29.24  2019    4369   19088161\n",
       "4     2019-04-01 01:00:00+00:00          35.10  2019    4370   19096900\n",
       "...                         ...            ...   ...     ...        ...\n",
       "47853 2021-12-22 21:30:00+00:00         315.00  2021   17083  291828889\n",
       "47854 2021-12-22 22:00:00+00:00         276.85  2021   17084  291863056\n",
       "47855 2021-12-22 22:30:00+00:00         276.85  2021   17085  291897225\n",
       "47856 2021-12-22 23:00:00+00:00         325.40  2021   17086  291931396\n",
       "47857 2021-12-22 23:30:00+00:00         325.40  2021   17087  291965569\n",
       "\n",
       "[47858 rows x 5 columns]"
      ]
     },
     "execution_count": 13,
     "metadata": {},
     "output_type": "execute_result"
    }
   ],
   "source": [
    "# Concatenate three datasets into one big dataset.\n",
    "frames = [epex_2019, epex_2020, epex_2021]\n",
    "new_epex = result = pd.concat(frames)\n",
    "new_epex"
   ]
  },
  {
   "cell_type": "code",
   "execution_count": 14,
   "metadata": {},
   "outputs": [
    {
     "data": {
      "text/html": [
       "<div>\n",
       "<style scoped>\n",
       "    .dataframe tbody tr th:only-of-type {\n",
       "        vertical-align: middle;\n",
       "    }\n",
       "\n",
       "    .dataframe tbody tr th {\n",
       "        vertical-align: top;\n",
       "    }\n",
       "\n",
       "    .dataframe thead th {\n",
       "        text-align: right;\n",
       "    }\n",
       "</style>\n",
       "<table border=\"1\" class=\"dataframe\">\n",
       "  <thead>\n",
       "    <tr style=\"text-align: right;\">\n",
       "      <th></th>\n",
       "      <th>timestamp</th>\n",
       "      <th>apx_da_hourly</th>\n",
       "      <th>year</th>\n",
       "      <th>number</th>\n",
       "      <th>square</th>\n",
       "    </tr>\n",
       "  </thead>\n",
       "  <tbody>\n",
       "    <tr>\n",
       "      <th>0</th>\n",
       "      <td>2019-03-31 23:00:00+00:00</td>\n",
       "      <td>26.43</td>\n",
       "      <td>2019</td>\n",
       "      <td>4366</td>\n",
       "      <td>19061956</td>\n",
       "    </tr>\n",
       "    <tr>\n",
       "      <th>1</th>\n",
       "      <td>2019-03-31 23:30:00+00:00</td>\n",
       "      <td>26.43</td>\n",
       "      <td>2019</td>\n",
       "      <td>4367</td>\n",
       "      <td>19070689</td>\n",
       "    </tr>\n",
       "    <tr>\n",
       "      <th>2</th>\n",
       "      <td>2019-04-01 00:00:00+00:00</td>\n",
       "      <td>29.24</td>\n",
       "      <td>2019</td>\n",
       "      <td>4368</td>\n",
       "      <td>19079424</td>\n",
       "    </tr>\n",
       "    <tr>\n",
       "      <th>3</th>\n",
       "      <td>2019-04-01 00:30:00+00:00</td>\n",
       "      <td>29.24</td>\n",
       "      <td>2019</td>\n",
       "      <td>4369</td>\n",
       "      <td>19088161</td>\n",
       "    </tr>\n",
       "    <tr>\n",
       "      <th>4</th>\n",
       "      <td>2019-04-01 01:00:00+00:00</td>\n",
       "      <td>35.10</td>\n",
       "      <td>2019</td>\n",
       "      <td>4370</td>\n",
       "      <td>19096900</td>\n",
       "    </tr>\n",
       "    <tr>\n",
       "      <th>...</th>\n",
       "      <td>...</td>\n",
       "      <td>...</td>\n",
       "      <td>...</td>\n",
       "      <td>...</td>\n",
       "      <td>...</td>\n",
       "    </tr>\n",
       "    <tr>\n",
       "      <th>47853</th>\n",
       "      <td>2021-12-22 21:30:00+00:00</td>\n",
       "      <td>315.00</td>\n",
       "      <td>2021</td>\n",
       "      <td>17083</td>\n",
       "      <td>291828889</td>\n",
       "    </tr>\n",
       "    <tr>\n",
       "      <th>47854</th>\n",
       "      <td>2021-12-22 22:00:00+00:00</td>\n",
       "      <td>276.85</td>\n",
       "      <td>2021</td>\n",
       "      <td>17084</td>\n",
       "      <td>291863056</td>\n",
       "    </tr>\n",
       "    <tr>\n",
       "      <th>47855</th>\n",
       "      <td>2021-12-22 22:30:00+00:00</td>\n",
       "      <td>276.85</td>\n",
       "      <td>2021</td>\n",
       "      <td>17085</td>\n",
       "      <td>291897225</td>\n",
       "    </tr>\n",
       "    <tr>\n",
       "      <th>47856</th>\n",
       "      <td>2021-12-22 23:00:00+00:00</td>\n",
       "      <td>325.40</td>\n",
       "      <td>2021</td>\n",
       "      <td>17086</td>\n",
       "      <td>291931396</td>\n",
       "    </tr>\n",
       "    <tr>\n",
       "      <th>47857</th>\n",
       "      <td>2021-12-22 23:30:00+00:00</td>\n",
       "      <td>325.40</td>\n",
       "      <td>2021</td>\n",
       "      <td>17087</td>\n",
       "      <td>291965569</td>\n",
       "    </tr>\n",
       "  </tbody>\n",
       "</table>\n",
       "<p>47858 rows × 5 columns</p>\n",
       "</div>"
      ],
      "text/plain": [
       "                      timestamp  apx_da_hourly  year  number     square\n",
       "0     2019-03-31 23:00:00+00:00          26.43  2019    4366   19061956\n",
       "1     2019-03-31 23:30:00+00:00          26.43  2019    4367   19070689\n",
       "2     2019-04-01 00:00:00+00:00          29.24  2019    4368   19079424\n",
       "3     2019-04-01 00:30:00+00:00          29.24  2019    4369   19088161\n",
       "4     2019-04-01 01:00:00+00:00          35.10  2019    4370   19096900\n",
       "...                         ...            ...   ...     ...        ...\n",
       "47853 2021-12-22 21:30:00+00:00         315.00  2021   17083  291828889\n",
       "47854 2021-12-22 22:00:00+00:00         276.85  2021   17084  291863056\n",
       "47855 2021-12-22 22:30:00+00:00         276.85  2021   17085  291897225\n",
       "47856 2021-12-22 23:00:00+00:00         325.40  2021   17086  291931396\n",
       "47857 2021-12-22 23:30:00+00:00         325.40  2021   17087  291965569\n",
       "\n",
       "[47858 rows x 5 columns]"
      ]
     },
     "execution_count": 14,
     "metadata": {},
     "output_type": "execute_result"
    }
   ],
   "source": [
    "raw_data = new_epex\n",
    "raw_data"
   ]
  },
  {
   "cell_type": "code",
   "execution_count": 15,
   "metadata": {},
   "outputs": [
    {
     "data": {
      "text/html": [
       "<div>\n",
       "<style scoped>\n",
       "    .dataframe tbody tr th:only-of-type {\n",
       "        vertical-align: middle;\n",
       "    }\n",
       "\n",
       "    .dataframe tbody tr th {\n",
       "        vertical-align: top;\n",
       "    }\n",
       "\n",
       "    .dataframe thead th {\n",
       "        text-align: right;\n",
       "    }\n",
       "</style>\n",
       "<table border=\"1\" class=\"dataframe\">\n",
       "  <thead>\n",
       "    <tr style=\"text-align: right;\">\n",
       "      <th></th>\n",
       "      <th>apx_da_hourly</th>\n",
       "      <th>number</th>\n",
       "      <th>square</th>\n",
       "    </tr>\n",
       "  </thead>\n",
       "  <tbody>\n",
       "    <tr>\n",
       "      <th>0</th>\n",
       "      <td>54.00</td>\n",
       "      <td>2376</td>\n",
       "      <td>5645376</td>\n",
       "    </tr>\n",
       "    <tr>\n",
       "      <th>1</th>\n",
       "      <td>44.92</td>\n",
       "      <td>12079</td>\n",
       "      <td>145902241</td>\n",
       "    </tr>\n",
       "    <tr>\n",
       "      <th>2</th>\n",
       "      <td>41.38</td>\n",
       "      <td>12569</td>\n",
       "      <td>157979761</td>\n",
       "    </tr>\n",
       "    <tr>\n",
       "      <th>3</th>\n",
       "      <td>76.60</td>\n",
       "      <td>6164</td>\n",
       "      <td>37994896</td>\n",
       "    </tr>\n",
       "    <tr>\n",
       "      <th>4</th>\n",
       "      <td>40.64</td>\n",
       "      <td>9513</td>\n",
       "      <td>90497169</td>\n",
       "    </tr>\n",
       "    <tr>\n",
       "      <th>...</th>\n",
       "      <td>...</td>\n",
       "      <td>...</td>\n",
       "      <td>...</td>\n",
       "    </tr>\n",
       "    <tr>\n",
       "      <th>47853</th>\n",
       "      <td>29.90</td>\n",
       "      <td>6568</td>\n",
       "      <td>43138624</td>\n",
       "    </tr>\n",
       "    <tr>\n",
       "      <th>47854</th>\n",
       "      <td>70.40</td>\n",
       "      <td>8356</td>\n",
       "      <td>69822736</td>\n",
       "    </tr>\n",
       "    <tr>\n",
       "      <th>47855</th>\n",
       "      <td>24.20</td>\n",
       "      <td>15465</td>\n",
       "      <td>239166225</td>\n",
       "    </tr>\n",
       "    <tr>\n",
       "      <th>47856</th>\n",
       "      <td>53.00</td>\n",
       "      <td>751</td>\n",
       "      <td>564001</td>\n",
       "    </tr>\n",
       "    <tr>\n",
       "      <th>47857</th>\n",
       "      <td>54.40</td>\n",
       "      <td>346</td>\n",
       "      <td>119716</td>\n",
       "    </tr>\n",
       "  </tbody>\n",
       "</table>\n",
       "<p>47858 rows × 3 columns</p>\n",
       "</div>"
      ],
      "text/plain": [
       "       apx_da_hourly  number     square\n",
       "0              54.00    2376    5645376\n",
       "1              44.92   12079  145902241\n",
       "2              41.38   12569  157979761\n",
       "3              76.60    6164   37994896\n",
       "4              40.64    9513   90497169\n",
       "...              ...     ...        ...\n",
       "47853          29.90    6568   43138624\n",
       "47854          70.40    8356   69822736\n",
       "47855          24.20   15465  239166225\n",
       "47856          53.00     751     564001\n",
       "47857          54.40     346     119716\n",
       "\n",
       "[47858 rows x 3 columns]"
      ]
     },
     "execution_count": 15,
     "metadata": {},
     "output_type": "execute_result"
    }
   ],
   "source": [
    "# Shuffle the data.\n",
    "raw_data = raw_data.drop(['timestamp', 'year'], axis = 1)\n",
    "data = raw_data.sample(frac=1).reset_index(drop=True)\n",
    "data"
   ]
  },
  {
   "cell_type": "code",
   "execution_count": 16,
   "metadata": {},
   "outputs": [],
   "source": [
    "# Split the dataset into training and test set.\n",
    "train_data = data.sample(frac=0.85, random_state=0)\n",
    "test_data = data.drop(train_data.index)"
   ]
  },
  {
   "cell_type": "code",
   "execution_count": 17,
   "metadata": {},
   "outputs": [],
   "source": [
    "# Separate features and labels.\n",
    "train_features = train_data.copy()\n",
    "test_features = test_data.copy()\n",
    "\n",
    "train_labels = train_features.pop('apx_da_hourly')\n",
    "test_labels = test_features.pop('apx_da_hourly')"
   ]
  },
  {
   "cell_type": "code",
   "execution_count": 18,
   "metadata": {},
   "outputs": [
    {
     "name": "stdout",
     "output_type": "stream",
     "text": [
      "variance of features: [2.3191966e+07 8.0257343e+15]\n",
      "mean of features:  [9.2954902e+03 1.0959837e+08]\n"
     ]
    }
   ],
   "source": [
    "# Define the normaliser.\n",
    "normaliser = tf.keras.layers.Normalization(axis = -1)\n",
    "normaliser.adapt(train_features)\n",
    "print('variance of features:', normaliser.variance.numpy()[0])\n",
    "print('mean of features: ', normaliser.mean.numpy()[0])"
   ]
  },
  {
   "cell_type": "code",
   "execution_count": 19,
   "metadata": {},
   "outputs": [
    {
     "name": "stdout",
     "output_type": "stream",
     "text": [
      "0.8677746\n"
     ]
    }
   ],
   "source": [
    "# Use linear regression\n",
    "linear_model = tf.keras.Sequential([\n",
    "                normaliser,\n",
    "                tf.keras.layers.Dense(1)\n",
    "    ]\n",
    "    )\n",
    "\n",
    "myPredic = train_features.to_numpy()[[0],:]\n",
    "print(linear_model.predict(myPredic)[0][0])"
   ]
  },
  {
   "cell_type": "code",
   "execution_count": 20,
   "metadata": {},
   "outputs": [
    {
     "name": "stdout",
     "output_type": "stream",
     "text": [
      "Model: \"sequential\"\n",
      "_________________________________________________________________\n",
      " Layer (type)                Output Shape              Param #   \n",
      "=================================================================\n",
      " normalization (Normalizatio  (None, 2)                5         \n",
      " n)                                                              \n",
      "                                                                 \n",
      " dense (Dense)               (None, 1)                 3         \n",
      "                                                                 \n",
      "=================================================================\n",
      "Total params: 8\n",
      "Trainable params: 3\n",
      "Non-trainable params: 5\n",
      "_________________________________________________________________\n"
     ]
    }
   ],
   "source": [
    "linear_model.summary()"
   ]
  },
  {
   "cell_type": "code",
   "execution_count": 21,
   "metadata": {},
   "outputs": [],
   "source": [
    "# Use gradient descent as the optimizer.\n",
    "linear_model.compile(\n",
    "    optimizer=tf.optimizers.SGD(learning_rate=0.1),\n",
    "    loss='mean_squared_error')"
   ]
  },
  {
   "cell_type": "code",
   "execution_count": 22,
   "metadata": {},
   "outputs": [
    {
     "data": {
      "text/plain": [
       "21801    0.058593\n",
       "10176   -0.258748\n",
       "33547   -0.709485\n",
       "30362   -0.083228\n",
       "3151    -0.223363\n",
       "           ...   \n",
       "32034   -0.104290\n",
       "23764   -0.549270\n",
       "38023   -0.496333\n",
       "7966    -0.307894\n",
       "16187   -0.475271\n",
       "Name: apx_da_hourly, Length: 40679, dtype: float64"
      ]
     },
     "execution_count": 22,
     "metadata": {},
     "output_type": "execute_result"
    }
   ],
   "source": [
    "labelmean = np.mean(train_labels)\n",
    "labelstd = np.std(train_labels)\n",
    "newtrain = (train_labels-labelmean)/labelstd\n",
    "newtrain"
   ]
  },
  {
   "cell_type": "code",
   "execution_count": 23,
   "metadata": {},
   "outputs": [
    {
     "name": "stdout",
     "output_type": "stream",
     "text": [
      "Epoch 1/50\n",
      "1017/1017 [==============================] - 1s 614us/step - loss: 0.9681 - val_loss: 1.0887\n",
      "Epoch 2/50\n",
      "1017/1017 [==============================] - 1s 645us/step - loss: 0.9623 - val_loss: 0.7874\n",
      "Epoch 3/50\n",
      "1017/1017 [==============================] - 1s 528us/step - loss: 0.9645 - val_loss: 0.8053\n",
      "Epoch 4/50\n",
      "1017/1017 [==============================] - 1s 526us/step - loss: 0.9648 - val_loss: 0.7862\n",
      "Epoch 5/50\n",
      "1017/1017 [==============================] - 1s 530us/step - loss: 0.9641 - val_loss: 0.7936\n",
      "Epoch 6/50\n",
      "1017/1017 [==============================] - 1s 532us/step - loss: 0.9657 - val_loss: 0.7872\n",
      "Epoch 7/50\n",
      "1017/1017 [==============================] - 1s 526us/step - loss: 0.9650 - val_loss: 0.8274\n",
      "Epoch 8/50\n",
      "1017/1017 [==============================] - 1s 531us/step - loss: 0.9659 - val_loss: 0.7860\n",
      "Epoch 9/50\n",
      "1017/1017 [==============================] - 1s 528us/step - loss: 0.9663 - val_loss: 0.7871\n",
      "Epoch 10/50\n",
      "1017/1017 [==============================] - 1s 528us/step - loss: 0.9642 - val_loss: 0.7951\n",
      "Epoch 11/50\n",
      "1017/1017 [==============================] - 1s 532us/step - loss: 0.9652 - val_loss: 0.7883\n",
      "Epoch 12/50\n",
      "1017/1017 [==============================] - 1s 527us/step - loss: 0.9642 - val_loss: 0.8078\n",
      "Epoch 13/50\n",
      "1017/1017 [==============================] - 1s 528us/step - loss: 0.9631 - val_loss: 0.7928\n",
      "Epoch 14/50\n",
      "1017/1017 [==============================] - 1s 531us/step - loss: 0.9669 - val_loss: 0.7969\n",
      "Epoch 15/50\n",
      "1017/1017 [==============================] - 1s 527us/step - loss: 0.9646 - val_loss: 0.7881\n",
      "Epoch 16/50\n",
      "1017/1017 [==============================] - 1s 531us/step - loss: 0.9646 - val_loss: 0.7871\n",
      "Epoch 17/50\n",
      "1017/1017 [==============================] - 1s 535us/step - loss: 0.9636 - val_loss: 0.7991\n",
      "Epoch 18/50\n",
      "1017/1017 [==============================] - 1s 530us/step - loss: 0.9648 - val_loss: 0.8260\n",
      "Epoch 19/50\n",
      "1017/1017 [==============================] - 1s 540us/step - loss: 0.9640 - val_loss: 0.7961\n",
      "Epoch 20/50\n",
      "1017/1017 [==============================] - 1s 675us/step - loss: 0.9654 - val_loss: 0.7888\n",
      "Epoch 21/50\n",
      "1017/1017 [==============================] - 1s 827us/step - loss: 0.9653 - val_loss: 0.7932\n",
      "Epoch 22/50\n",
      "1017/1017 [==============================] - 1s 530us/step - loss: 0.9644 - val_loss: 0.7864\n",
      "Epoch 23/50\n",
      "1017/1017 [==============================] - 1s 537us/step - loss: 0.9664 - val_loss: 0.7883\n",
      "Epoch 24/50\n",
      "1017/1017 [==============================] - 1s 533us/step - loss: 0.9636 - val_loss: 0.7863\n",
      "Epoch 25/50\n",
      "1017/1017 [==============================] - 1s 534us/step - loss: 0.9678 - val_loss: 0.8000\n",
      "Epoch 26/50\n",
      "1017/1017 [==============================] - 1s 534us/step - loss: 0.9645 - val_loss: 0.7936\n",
      "Epoch 27/50\n",
      "1017/1017 [==============================] - 1s 526us/step - loss: 0.9637 - val_loss: 0.7920\n",
      "Epoch 28/50\n",
      "1017/1017 [==============================] - 1s 534us/step - loss: 0.9644 - val_loss: 0.8240\n",
      "Epoch 29/50\n",
      "1017/1017 [==============================] - 1s 534us/step - loss: 0.9667 - val_loss: 0.7887\n",
      "Epoch 30/50\n",
      "1017/1017 [==============================] - 1s 530us/step - loss: 0.9622 - val_loss: 0.7889\n",
      "Epoch 31/50\n",
      "1017/1017 [==============================] - 1s 537us/step - loss: 0.9626 - val_loss: 0.8132\n",
      "Epoch 32/50\n",
      "1017/1017 [==============================] - 1s 534us/step - loss: 0.9627 - val_loss: 0.8013\n",
      "Epoch 33/50\n",
      "1017/1017 [==============================] - 1s 533us/step - loss: 0.9637 - val_loss: 0.7885\n",
      "Epoch 34/50\n",
      "1017/1017 [==============================] - 1s 531us/step - loss: 0.9645 - val_loss: 0.7884\n",
      "Epoch 35/50\n",
      "1017/1017 [==============================] - 1s 535us/step - loss: 0.9639 - val_loss: 0.8127\n",
      "Epoch 36/50\n",
      "1017/1017 [==============================] - 1s 536us/step - loss: 0.9637 - val_loss: 0.8126\n",
      "Epoch 37/50\n",
      "1017/1017 [==============================] - 1s 539us/step - loss: 0.9640 - val_loss: 0.7870\n",
      "Epoch 38/50\n",
      "1017/1017 [==============================] - 1s 534us/step - loss: 0.9636 - val_loss: 0.7905\n",
      "Epoch 39/50\n",
      "1017/1017 [==============================] - 1s 534us/step - loss: 0.9664 - val_loss: 0.7877\n",
      "Epoch 40/50\n",
      "1017/1017 [==============================] - 1s 532us/step - loss: 0.9647 - val_loss: 0.7923\n",
      "Epoch 41/50\n",
      "1017/1017 [==============================] - 1s 790us/step - loss: 0.9650 - val_loss: 0.7888\n",
      "Epoch 42/50\n",
      "1017/1017 [==============================] - 1s 554us/step - loss: 0.9634 - val_loss: 0.7874\n",
      "Epoch 43/50\n",
      "1017/1017 [==============================] - 1s 546us/step - loss: 0.9658 - val_loss: 0.7983\n",
      "Epoch 44/50\n",
      "1017/1017 [==============================] - 1s 531us/step - loss: 0.9651 - val_loss: 0.7870\n",
      "Epoch 45/50\n",
      "1017/1017 [==============================] - 1s 546us/step - loss: 0.9644 - val_loss: 0.7883\n",
      "Epoch 46/50\n",
      "1017/1017 [==============================] - 1s 541us/step - loss: 0.9642 - val_loss: 0.7879\n",
      "Epoch 47/50\n",
      "1017/1017 [==============================] - 1s 530us/step - loss: 0.9665 - val_loss: 0.7864\n",
      "Epoch 48/50\n",
      "1017/1017 [==============================] - 1s 535us/step - loss: 0.9652 - val_loss: 0.7909\n",
      "Epoch 49/50\n",
      "1017/1017 [==============================] - 1s 533us/step - loss: 0.9662 - val_loss: 0.7877\n",
      "Epoch 50/50\n",
      "1017/1017 [==============================] - 1s 534us/step - loss: 0.9636 - val_loss: 0.7897\n"
     ]
    }
   ],
   "source": [
    "# Train the model.\n",
    "history = linear_model.fit(\n",
    "    train_features,\n",
    "    newtrain,\n",
    "    epochs=50,\n",
    "    validation_split = 0.2)"
   ]
  },
  {
   "cell_type": "code",
   "execution_count": 24,
   "metadata": {},
   "outputs": [
    {
     "data": {
      "text/plain": [
       "dict_keys(['loss', 'val_loss'])"
      ]
     },
     "execution_count": 24,
     "metadata": {},
     "output_type": "execute_result"
    }
   ],
   "source": [
    "history.history.keys()"
   ]
  },
  {
   "cell_type": "code",
   "execution_count": 25,
   "metadata": {},
   "outputs": [
    {
     "data": {
      "image/png": "[encoded data removed]",
      "text/plain": [
       "<Figure size 432x288 with 1 Axes>"
      ]
     },
     "metadata": {
      "needs_background": "light"
     },
     "output_type": "display_data"
    }
   ],
   "source": [
    "# Plot the error in training set and the error in validation set.\n",
    "plt.plot(history.history['loss'], label='loss')\n",
    "plt.plot(history.history['val_loss'], label='val_loss')\n",
    "plt.xlabel('Epoch')\n",
    "plt.ylabel('Error [MSE]')\n",
    "plt.legend()\n",
    "plt.grid(True)"
   ]
  },
  {
   "cell_type": "code",
   "execution_count": 26,
   "metadata": {
    "scrolled": true
   },
   "outputs": [
    {
     "name": "stdout",
     "output_type": "stream",
     "text": [
      "225/225 [==============================] - 0s 544us/step - loss: 1.0027\n",
      "1.002659797668457\n"
     ]
    },
    {
     "data": {
      "image/png": "[encoded data removed]",
      "text/plain": [
       "<Figure size 432x288 with 1 Axes>"
      ]
     },
     "metadata": {
      "needs_background": "light"
     },
     "output_type": "display_data"
    }
   ],
   "source": [
    "# Plot graph to visualize the efficiency of the model.\n",
    "norm_test_labels = (test_labels - labelmean)/labelstd\n",
    "print(linear_model.evaluate(test_features, norm_test_labels))\n",
    "\n",
    "\n",
    "predictions = linear_model.predict(test_features)[:,0]*labelstd + labelmean\n",
    "\n",
    "plt.plot(test_labels.to_numpy(), (predictions), marker = '.', linestyle = 'None')\n",
    "plt.axvline(0,color='Black')\n",
    "plt.axhline(0,color='Black')\n",
    "plt.axis('equal')\n",
    "xrange = np.arange(0,500)\n",
    "plt.plot(xrange,xrange,color='Black', linestyle='--',label='y = x')\n",
    "\n",
    "plt.legend()\n",
    "ax = plt.gca()\n",
    "ax.set_xlabel('Electricity prices', fontsize =14)\n",
    "ax.set_ylabel('Predicted electricity prices', fontsize =14)\n",
    "plt.grid()"
   ]
  },
  {
   "cell_type": "markdown",
   "metadata": {},
   "source": [
    "# Question 2 and 3 explaination\n",
    "\n",
    "Here linear regression may not be the best model to use to predict the electricity prices and thus the time to charge and discharge the bettary since we only have one feature (time) to use to fit the model. If we have more time, we could collect more data and use them as additional features to train the model. For example, weather and seasons are also important features that could affect the electricity prices. Due to time constraints, we are not able to show this here.\n",
    "\n",
    "Furthermore, if time permits, we could focus more on unsupervised learning and reinforcement learning. For unsupervised learning, one could try to cluster the data as three groups. Then it is possible to calculate under what situation it is better to charge, discharge or do nothing. For reinforcement learning, one could try to create an intelligent agent and explicitly calculate the state and revenue."
   ]
  },
  {
   "cell_type": "code",
   "execution_count": null,
   "metadata": {},
   "outputs": [],
   "source": []
  }
 ],
 "metadata": {
  "kernelspec": {
   "display_name": "Python 3",
   "language": "python",
   "name": "python3"
  },
  "language_info": {
   "codemirror_mode": {
    "name": "ipython",
    "version": 3
   },
   "file_extension": ".py",
   "mimetype": "text/x-python",
   "name": "python",
   "nbconvert_exporter": "python",
   "pygments_lexer": "ipython3",
   "version": "3.8.3"
  }
 },
 "nbformat": 4,
 "nbformat_minor": 4
}
